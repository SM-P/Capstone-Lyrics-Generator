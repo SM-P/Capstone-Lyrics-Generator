{
  "nbformat": 4,
  "nbformat_minor": 0,
  "metadata": {
    "colab": {
      "name": "HMM.ipynb",
      "provenance": [],
      "toc_visible": true
    },
    "kernelspec": {
      "name": "python3",
      "display_name": "Python 3"
    },
    "accelerator": "GPU"
  },
  "cells": [
    {
      "cell_type": "code",
      "metadata": {
        "id": "0W9jtcWNjxZi"
      },
      "source": [
        "import random, re\r\n",
        "#from google.colab import files\r\n",
        "#uploaded = files.upload()\r\n",
        "\r\n",
        "f = open('fusion.txt', 'r')\r\n",
        "words = re.sub(\"\\n\", \" \\n\", f.read()).lower().split(' ')\r\n",
        "f.close()"
      ],
      "execution_count": null,
      "outputs": []
    },
    {
      "cell_type": "code",
      "metadata": {
        "id": "20qYQMV6HAFg"
      },
      "source": [
        "def buildModel(inputW, countDict):  \r\n",
        "\tfor curr, next in zip(inputW[1:], inputW[:-1]):\r\n",
        "\t\tif curr not in countDict:\r\n",
        "\t\t\tcountDict[curr] = {next: 1}\r\n",
        "\t\telse:\r\n",
        "\t\t\tif next not in countDict[curr]:\r\n",
        "\t\t\t\tcountDict[curr][next] = 1;\r\n",
        "\t\t\telse:\r\n",
        "\t\t\t\tcountDict[curr][next] += 1;\r\n",
        "\r\n",
        "\tprobDict = {}\r\n",
        "\tfor curr, currDict in countDict.items():\r\n",
        "\t\tprobDict[curr] = {}\r\n",
        "\t\tcurrTotal = sum(currDict.values())\r\n",
        "\t\tfor next in currDict:\r\n",
        "\t\t\tprobDict[curr][next] = currDict[next] / currTotal\r\n",
        "\treturn probDict"
      ],
      "execution_count": null,
      "outputs": []
    },
    {
      "cell_type": "code",
      "metadata": {
        "colab": {
          "base_uri": "https://localhost:8080/"
        },
        "id": "JIQz8d8Nibqe",
        "outputId": "44f73c47-0f4e-494b-b6f5-4ad3a0746396"
      },
      "source": [
        "def markovNext(currword, probDict):\r\n",
        "\tif currword not in probDict.keys():\r\n",
        "\t\treturn random.choice(list(probDict.keys()))\r\n",
        "\telse:\r\n",
        "\t\twordprobs = probDict[currword]\r\n",
        "\t\trandProb = random.uniform(0.0, 1.0)\r\n",
        "\t\tcurrProb = 0.0\r\n",
        "\t\tfor key in wordprobs:\r\n",
        "\t\t\tcurrProb += wordprobs[key]\r\n",
        "\t\t\tif randProb <= currProb:\r\n",
        "\t\t\t\treturn key\r\n",
        "\t\treturn random.choice(probDict.keys())\r\n",
        "\r\n",
        "def genLyrics(curr, probDict, LyricsLength = 100):\r\n",
        "\tlyrics = [curr]\r\n",
        "\tfor t in range(LyricsLength):\r\n",
        "\t\tlyrics.append(markovNext(lyrics[-1], probDict))\r\n",
        "\treturn \" \".join(lyrics)\r\n",
        "\r\n",
        "if __name__ == '__main__':\r\n",
        "\tcountDict = {}\r\n",
        "\tProbDict = buildModel(words, countDict)\r\n",
        "\tstartW = input()\r\n",
        "\tprint(\"Generated lyrics:\")\r\n",
        "\tprint(genLyrics(startW, ProbDict))"
      ],
      "execution_count": null,
      "outputs": [
        {
          "output_type": "stream",
          "text": [
            "This rap\n",
            "Generated lyrics:\n",
            "This rap destroyed and ironic \n",
            "life's go let's now, it solve problem no be follower, a in ?look wasted, get gotta \n",
            "i scars from return the with position fucked-up a without \n",
            "all clappin be won't why baby acres 40 a \n",
            "that's (yeah) ya do gonna weren’t we though, \n",
            "really father them miss we yet, myself call \n",
            "i did \n",
            "i alot\" sparked get line, my reaching concealed nothing's like jokers the get wig your get lets miles, 100 bands, the in back to want \n",
            "government us on women that fear fear, talkin' nigga by hangin' to up get days last doesn't \n",
            "it god\n"
          ],
          "name": "stdout"
        }
      ]
    }
  ]
}