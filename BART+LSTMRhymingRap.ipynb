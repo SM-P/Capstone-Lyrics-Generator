{
  "nbformat": 4,
  "nbformat_minor": 0,
  "metadata": {
    "accelerator": "GPU",
    "colab": {
      "name": "BART+XLNetRhymingRap.ipynb",
      "provenance": [],
      "collapsed_sections": [],
      "toc_visible": true
    },
    "kernelspec": {
      "display_name": "Python 3",
      "language": "python",
      "name": "python3"
    },
    "language_info": {
      "codemirror_mode": {
        "name": "ipython",
        "version": 3
      },
      "file_extension": ".py",
      "mimetype": "text/x-python",
      "name": "python",
      "nbconvert_exporter": "python",
      "pygments_lexer": "ipython3",
      "version": "3.8.5"
    },
    "widgets": {
      "application/vnd.jupyter.widget-state+json": {
        "962fb6940e3848019deb7d3465b9b75c": {
          "model_module": "@jupyter-widgets/controls",
          "model_name": "HBoxModel",
          "state": {
            "_view_name": "HBoxView",
            "_dom_classes": [],
            "_model_name": "HBoxModel",
            "_view_module": "@jupyter-widgets/controls",
            "_model_module_version": "1.5.0",
            "_view_count": null,
            "_view_module_version": "1.5.0",
            "box_style": "",
            "layout": "IPY_MODEL_470015d913c844e494e5f0cd47dead7b",
            "_model_module": "@jupyter-widgets/controls",
            "children": [
              "IPY_MODEL_e38cac63d7ab411bb82dce649c5f6116",
              "IPY_MODEL_a96920d5f06e4bbfa8f2b8c017d2f4a2"
            ]
          }
        },
        "470015d913c844e494e5f0cd47dead7b": {
          "model_module": "@jupyter-widgets/base",
          "model_name": "LayoutModel",
          "state": {
            "_view_name": "LayoutView",
            "grid_template_rows": null,
            "right": null,
            "justify_content": null,
            "_view_module": "@jupyter-widgets/base",
            "overflow": null,
            "_model_module_version": "1.2.0",
            "_view_count": null,
            "flex_flow": null,
            "width": null,
            "min_width": null,
            "border": null,
            "align_items": null,
            "bottom": null,
            "_model_module": "@jupyter-widgets/base",
            "top": null,
            "grid_column": null,
            "overflow_y": null,
            "overflow_x": null,
            "grid_auto_flow": null,
            "grid_area": null,
            "grid_template_columns": null,
            "flex": null,
            "_model_name": "LayoutModel",
            "justify_items": null,
            "grid_row": null,
            "max_height": null,
            "align_content": null,
            "visibility": null,
            "align_self": null,
            "height": null,
            "min_height": null,
            "padding": null,
            "grid_auto_rows": null,
            "grid_gap": null,
            "max_width": null,
            "order": null,
            "_view_module_version": "1.2.0",
            "grid_template_areas": null,
            "object_position": null,
            "object_fit": null,
            "grid_auto_columns": null,
            "margin": null,
            "display": null,
            "left": null
          }
        },
        "e38cac63d7ab411bb82dce649c5f6116": {
          "model_module": "@jupyter-widgets/controls",
          "model_name": "FloatProgressModel",
          "state": {
            "_view_name": "ProgressView",
            "style": "IPY_MODEL_57310be07b84479c85a286744b7ba352",
            "_dom_classes": [],
            "description": "Downloading: 100%",
            "_model_name": "FloatProgressModel",
            "bar_style": "success",
            "max": 898823,
            "_view_module": "@jupyter-widgets/controls",
            "_model_module_version": "1.5.0",
            "value": 898823,
            "_view_count": null,
            "_view_module_version": "1.5.0",
            "orientation": "horizontal",
            "min": 0,
            "description_tooltip": null,
            "_model_module": "@jupyter-widgets/controls",
            "layout": "IPY_MODEL_cb2ff8d2a5c44736923b1b300fd2c705"
          }
        },
        "a96920d5f06e4bbfa8f2b8c017d2f4a2": {
          "model_module": "@jupyter-widgets/controls",
          "model_name": "HTMLModel",
          "state": {
            "_view_name": "HTMLView",
            "style": "IPY_MODEL_3747f7ebf7524c2aab2b3c620168ee1b",
            "_dom_classes": [],
            "description": "",
            "_model_name": "HTMLModel",
            "placeholder": "​",
            "_view_module": "@jupyter-widgets/controls",
            "_model_module_version": "1.5.0",
            "value": " 899k/899k [00:01&lt;00:00, 580kB/s]",
            "_view_count": null,
            "_view_module_version": "1.5.0",
            "description_tooltip": null,
            "_model_module": "@jupyter-widgets/controls",
            "layout": "IPY_MODEL_4e97c31c7fce4b0881aa96d99f655c4c"
          }
        },
        "57310be07b84479c85a286744b7ba352": {
          "model_module": "@jupyter-widgets/controls",
          "model_name": "ProgressStyleModel",
          "state": {
            "_view_name": "StyleView",
            "_model_name": "ProgressStyleModel",
            "description_width": "initial",
            "_view_module": "@jupyter-widgets/base",
            "_model_module_version": "1.5.0",
            "_view_count": null,
            "_view_module_version": "1.2.0",
            "bar_color": null,
            "_model_module": "@jupyter-widgets/controls"
          }
        },
        "cb2ff8d2a5c44736923b1b300fd2c705": {
          "model_module": "@jupyter-widgets/base",
          "model_name": "LayoutModel",
          "state": {
            "_view_name": "LayoutView",
            "grid_template_rows": null,
            "right": null,
            "justify_content": null,
            "_view_module": "@jupyter-widgets/base",
            "overflow": null,
            "_model_module_version": "1.2.0",
            "_view_count": null,
            "flex_flow": null,
            "width": null,
            "min_width": null,
            "border": null,
            "align_items": null,
            "bottom": null,
            "_model_module": "@jupyter-widgets/base",
            "top": null,
            "grid_column": null,
            "overflow_y": null,
            "overflow_x": null,
            "grid_auto_flow": null,
            "grid_area": null,
            "grid_template_columns": null,
            "flex": null,
            "_model_name": "LayoutModel",
            "justify_items": null,
            "grid_row": null,
            "max_height": null,
            "align_content": null,
            "visibility": null,
            "align_self": null,
            "height": null,
            "min_height": null,
            "padding": null,
            "grid_auto_rows": null,
            "grid_gap": null,
            "max_width": null,
            "order": null,
            "_view_module_version": "1.2.0",
            "grid_template_areas": null,
            "object_position": null,
            "object_fit": null,
            "grid_auto_columns": null,
            "margin": null,
            "display": null,
            "left": null
          }
        },
        "3747f7ebf7524c2aab2b3c620168ee1b": {
          "model_module": "@jupyter-widgets/controls",
          "model_name": "DescriptionStyleModel",
          "state": {
            "_view_name": "StyleView",
            "_model_name": "DescriptionStyleModel",
            "description_width": "",
            "_view_module": "@jupyter-widgets/base",
            "_model_module_version": "1.5.0",
            "_view_count": null,
            "_view_module_version": "1.2.0",
            "_model_module": "@jupyter-widgets/controls"
          }
        },
        "4e97c31c7fce4b0881aa96d99f655c4c": {
          "model_module": "@jupyter-widgets/base",
          "model_name": "LayoutModel",
          "state": {
            "_view_name": "LayoutView",
            "grid_template_rows": null,
            "right": null,
            "justify_content": null,
            "_view_module": "@jupyter-widgets/base",
            "overflow": null,
            "_model_module_version": "1.2.0",
            "_view_count": null,
            "flex_flow": null,
            "width": null,
            "min_width": null,
            "border": null,
            "align_items": null,
            "bottom": null,
            "_model_module": "@jupyter-widgets/base",
            "top": null,
            "grid_column": null,
            "overflow_y": null,
            "overflow_x": null,
            "grid_auto_flow": null,
            "grid_area": null,
            "grid_template_columns": null,
            "flex": null,
            "_model_name": "LayoutModel",
            "justify_items": null,
            "grid_row": null,
            "max_height": null,
            "align_content": null,
            "visibility": null,
            "align_self": null,
            "height": null,
            "min_height": null,
            "padding": null,
            "grid_auto_rows": null,
            "grid_gap": null,
            "max_width": null,
            "order": null,
            "_view_module_version": "1.2.0",
            "grid_template_areas": null,
            "object_position": null,
            "object_fit": null,
            "grid_auto_columns": null,
            "margin": null,
            "display": null,
            "left": null
          }
        },
        "7c853fff0e3545ec8f4c3d1bc5d74c99": {
          "model_module": "@jupyter-widgets/controls",
          "model_name": "HBoxModel",
          "state": {
            "_view_name": "HBoxView",
            "_dom_classes": [],
            "_model_name": "HBoxModel",
            "_view_module": "@jupyter-widgets/controls",
            "_model_module_version": "1.5.0",
            "_view_count": null,
            "_view_module_version": "1.5.0",
            "box_style": "",
            "layout": "IPY_MODEL_580558ab00d748eeb6584d714cd583fc",
            "_model_module": "@jupyter-widgets/controls",
            "children": [
              "IPY_MODEL_285d8dacf6c647c4a7332abb40ae252c",
              "IPY_MODEL_6e4b28346fa14827ba181a2c0c926e07"
            ]
          }
        },
        "580558ab00d748eeb6584d714cd583fc": {
          "model_module": "@jupyter-widgets/base",
          "model_name": "LayoutModel",
          "state": {
            "_view_name": "LayoutView",
            "grid_template_rows": null,
            "right": null,
            "justify_content": null,
            "_view_module": "@jupyter-widgets/base",
            "overflow": null,
            "_model_module_version": "1.2.0",
            "_view_count": null,
            "flex_flow": null,
            "width": null,
            "min_width": null,
            "border": null,
            "align_items": null,
            "bottom": null,
            "_model_module": "@jupyter-widgets/base",
            "top": null,
            "grid_column": null,
            "overflow_y": null,
            "overflow_x": null,
            "grid_auto_flow": null,
            "grid_area": null,
            "grid_template_columns": null,
            "flex": null,
            "_model_name": "LayoutModel",
            "justify_items": null,
            "grid_row": null,
            "max_height": null,
            "align_content": null,
            "visibility": null,
            "align_self": null,
            "height": null,
            "min_height": null,
            "padding": null,
            "grid_auto_rows": null,
            "grid_gap": null,
            "max_width": null,
            "order": null,
            "_view_module_version": "1.2.0",
            "grid_template_areas": null,
            "object_position": null,
            "object_fit": null,
            "grid_auto_columns": null,
            "margin": null,
            "display": null,
            "left": null
          }
        },
        "285d8dacf6c647c4a7332abb40ae252c": {
          "model_module": "@jupyter-widgets/controls",
          "model_name": "FloatProgressModel",
          "state": {
            "_view_name": "ProgressView",
            "style": "IPY_MODEL_37ce245ebfad4d9a822af98a654fc935",
            "_dom_classes": [],
            "description": "Downloading: 100%",
            "_model_name": "FloatProgressModel",
            "bar_style": "success",
            "max": 456318,
            "_view_module": "@jupyter-widgets/controls",
            "_model_module_version": "1.5.0",
            "value": 456318,
            "_view_count": null,
            "_view_module_version": "1.5.0",
            "orientation": "horizontal",
            "min": 0,
            "description_tooltip": null,
            "_model_module": "@jupyter-widgets/controls",
            "layout": "IPY_MODEL_ba4d125497ac4d778ce104448b05e903"
          }
        },
        "6e4b28346fa14827ba181a2c0c926e07": {
          "model_module": "@jupyter-widgets/controls",
          "model_name": "HTMLModel",
          "state": {
            "_view_name": "HTMLView",
            "style": "IPY_MODEL_bff59d49b83d4be3a414470d0951795d",
            "_dom_classes": [],
            "description": "",
            "_model_name": "HTMLModel",
            "placeholder": "​",
            "_view_module": "@jupyter-widgets/controls",
            "_model_module_version": "1.5.0",
            "value": " 456k/456k [00:00&lt;00:00, 931kB/s]",
            "_view_count": null,
            "_view_module_version": "1.5.0",
            "description_tooltip": null,
            "_model_module": "@jupyter-widgets/controls",
            "layout": "IPY_MODEL_6f55429f28a24d02baf5d18ad0f3a1c3"
          }
        },
        "37ce245ebfad4d9a822af98a654fc935": {
          "model_module": "@jupyter-widgets/controls",
          "model_name": "ProgressStyleModel",
          "state": {
            "_view_name": "StyleView",
            "_model_name": "ProgressStyleModel",
            "description_width": "initial",
            "_view_module": "@jupyter-widgets/base",
            "_model_module_version": "1.5.0",
            "_view_count": null,
            "_view_module_version": "1.2.0",
            "bar_color": null,
            "_model_module": "@jupyter-widgets/controls"
          }
        },
        "ba4d125497ac4d778ce104448b05e903": {
          "model_module": "@jupyter-widgets/base",
          "model_name": "LayoutModel",
          "state": {
            "_view_name": "LayoutView",
            "grid_template_rows": null,
            "right": null,
            "justify_content": null,
            "_view_module": "@jupyter-widgets/base",
            "overflow": null,
            "_model_module_version": "1.2.0",
            "_view_count": null,
            "flex_flow": null,
            "width": null,
            "min_width": null,
            "border": null,
            "align_items": null,
            "bottom": null,
            "_model_module": "@jupyter-widgets/base",
            "top": null,
            "grid_column": null,
            "overflow_y": null,
            "overflow_x": null,
            "grid_auto_flow": null,
            "grid_area": null,
            "grid_template_columns": null,
            "flex": null,
            "_model_name": "LayoutModel",
            "justify_items": null,
            "grid_row": null,
            "max_height": null,
            "align_content": null,
            "visibility": null,
            "align_self": null,
            "height": null,
            "min_height": null,
            "padding": null,
            "grid_auto_rows": null,
            "grid_gap": null,
            "max_width": null,
            "order": null,
            "_view_module_version": "1.2.0",
            "grid_template_areas": null,
            "object_position": null,
            "object_fit": null,
            "grid_auto_columns": null,
            "margin": null,
            "display": null,
            "left": null
          }
        },
        "bff59d49b83d4be3a414470d0951795d": {
          "model_module": "@jupyter-widgets/controls",
          "model_name": "DescriptionStyleModel",
          "state": {
            "_view_name": "StyleView",
            "_model_name": "DescriptionStyleModel",
            "description_width": "",
            "_view_module": "@jupyter-widgets/base",
            "_model_module_version": "1.5.0",
            "_view_count": null,
            "_view_module_version": "1.2.0",
            "_model_module": "@jupyter-widgets/controls"
          }
        },
        "6f55429f28a24d02baf5d18ad0f3a1c3": {
          "model_module": "@jupyter-widgets/base",
          "model_name": "LayoutModel",
          "state": {
            "_view_name": "LayoutView",
            "grid_template_rows": null,
            "right": null,
            "justify_content": null,
            "_view_module": "@jupyter-widgets/base",
            "overflow": null,
            "_model_module_version": "1.2.0",
            "_view_count": null,
            "flex_flow": null,
            "width": null,
            "min_width": null,
            "border": null,
            "align_items": null,
            "bottom": null,
            "_model_module": "@jupyter-widgets/base",
            "top": null,
            "grid_column": null,
            "overflow_y": null,
            "overflow_x": null,
            "grid_auto_flow": null,
            "grid_area": null,
            "grid_template_columns": null,
            "flex": null,
            "_model_name": "LayoutModel",
            "justify_items": null,
            "grid_row": null,
            "max_height": null,
            "align_content": null,
            "visibility": null,
            "align_self": null,
            "height": null,
            "min_height": null,
            "padding": null,
            "grid_auto_rows": null,
            "grid_gap": null,
            "max_width": null,
            "order": null,
            "_view_module_version": "1.2.0",
            "grid_template_areas": null,
            "object_position": null,
            "object_fit": null,
            "grid_auto_columns": null,
            "margin": null,
            "display": null,
            "left": null
          }
        },
        "b924e5917a94497981d363c0ef7c04ef": {
          "model_module": "@jupyter-widgets/controls",
          "model_name": "HBoxModel",
          "state": {
            "_view_name": "HBoxView",
            "_dom_classes": [],
            "_model_name": "HBoxModel",
            "_view_module": "@jupyter-widgets/controls",
            "_model_module_version": "1.5.0",
            "_view_count": null,
            "_view_module_version": "1.5.0",
            "box_style": "",
            "layout": "IPY_MODEL_bb0004b4f1c0439a9898245f90e26af3",
            "_model_module": "@jupyter-widgets/controls",
            "children": [
              "IPY_MODEL_94db9642ae1344519cf9b1647a1f1745",
              "IPY_MODEL_0b18f5551c5a4cb195d11c259fea677e"
            ]
          }
        },
        "bb0004b4f1c0439a9898245f90e26af3": {
          "model_module": "@jupyter-widgets/base",
          "model_name": "LayoutModel",
          "state": {
            "_view_name": "LayoutView",
            "grid_template_rows": null,
            "right": null,
            "justify_content": null,
            "_view_module": "@jupyter-widgets/base",
            "overflow": null,
            "_model_module_version": "1.2.0",
            "_view_count": null,
            "flex_flow": null,
            "width": null,
            "min_width": null,
            "border": null,
            "align_items": null,
            "bottom": null,
            "_model_module": "@jupyter-widgets/base",
            "top": null,
            "grid_column": null,
            "overflow_y": null,
            "overflow_x": null,
            "grid_auto_flow": null,
            "grid_area": null,
            "grid_template_columns": null,
            "flex": null,
            "_model_name": "LayoutModel",
            "justify_items": null,
            "grid_row": null,
            "max_height": null,
            "align_content": null,
            "visibility": null,
            "align_self": null,
            "height": null,
            "min_height": null,
            "padding": null,
            "grid_auto_rows": null,
            "grid_gap": null,
            "max_width": null,
            "order": null,
            "_view_module_version": "1.2.0",
            "grid_template_areas": null,
            "object_position": null,
            "object_fit": null,
            "grid_auto_columns": null,
            "margin": null,
            "display": null,
            "left": null
          }
        },
        "94db9642ae1344519cf9b1647a1f1745": {
          "model_module": "@jupyter-widgets/controls",
          "model_name": "FloatProgressModel",
          "state": {
            "_view_name": "ProgressView",
            "style": "IPY_MODEL_15d39d1254d74c15a850cbac27a512b4",
            "_dom_classes": [],
            "description": "Downloading: 100%",
            "_model_name": "FloatProgressModel",
            "bar_style": "success",
            "max": 1553,
            "_view_module": "@jupyter-widgets/controls",
            "_model_module_version": "1.5.0",
            "value": 1553,
            "_view_count": null,
            "_view_module_version": "1.5.0",
            "orientation": "horizontal",
            "min": 0,
            "description_tooltip": null,
            "_model_module": "@jupyter-widgets/controls",
            "layout": "IPY_MODEL_4d93be94833f44fea46bdb6523a44a63"
          }
        },
        "0b18f5551c5a4cb195d11c259fea677e": {
          "model_module": "@jupyter-widgets/controls",
          "model_name": "HTMLModel",
          "state": {
            "_view_name": "HTMLView",
            "style": "IPY_MODEL_87e85478b4b049be8c6822b8e2970382",
            "_dom_classes": [],
            "description": "",
            "_model_name": "HTMLModel",
            "placeholder": "​",
            "_view_module": "@jupyter-widgets/controls",
            "_model_module_version": "1.5.0",
            "value": " 1.55k/1.55k [00:18&lt;00:00, 86.2B/s]",
            "_view_count": null,
            "_view_module_version": "1.5.0",
            "description_tooltip": null,
            "_model_module": "@jupyter-widgets/controls",
            "layout": "IPY_MODEL_c01ff59351374a14adfb433f29f55391"
          }
        },
        "15d39d1254d74c15a850cbac27a512b4": {
          "model_module": "@jupyter-widgets/controls",
          "model_name": "ProgressStyleModel",
          "state": {
            "_view_name": "StyleView",
            "_model_name": "ProgressStyleModel",
            "description_width": "initial",
            "_view_module": "@jupyter-widgets/base",
            "_model_module_version": "1.5.0",
            "_view_count": null,
            "_view_module_version": "1.2.0",
            "bar_color": null,
            "_model_module": "@jupyter-widgets/controls"
          }
        },
        "4d93be94833f44fea46bdb6523a44a63": {
          "model_module": "@jupyter-widgets/base",
          "model_name": "LayoutModel",
          "state": {
            "_view_name": "LayoutView",
            "grid_template_rows": null,
            "right": null,
            "justify_content": null,
            "_view_module": "@jupyter-widgets/base",
            "overflow": null,
            "_model_module_version": "1.2.0",
            "_view_count": null,
            "flex_flow": null,
            "width": null,
            "min_width": null,
            "border": null,
            "align_items": null,
            "bottom": null,
            "_model_module": "@jupyter-widgets/base",
            "top": null,
            "grid_column": null,
            "overflow_y": null,
            "overflow_x": null,
            "grid_auto_flow": null,
            "grid_area": null,
            "grid_template_columns": null,
            "flex": null,
            "_model_name": "LayoutModel",
            "justify_items": null,
            "grid_row": null,
            "max_height": null,
            "align_content": null,
            "visibility": null,
            "align_self": null,
            "height": null,
            "min_height": null,
            "padding": null,
            "grid_auto_rows": null,
            "grid_gap": null,
            "max_width": null,
            "order": null,
            "_view_module_version": "1.2.0",
            "grid_template_areas": null,
            "object_position": null,
            "object_fit": null,
            "grid_auto_columns": null,
            "margin": null,
            "display": null,
            "left": null
          }
        },
        "87e85478b4b049be8c6822b8e2970382": {
          "model_module": "@jupyter-widgets/controls",
          "model_name": "DescriptionStyleModel",
          "state": {
            "_view_name": "StyleView",
            "_model_name": "DescriptionStyleModel",
            "description_width": "",
            "_view_module": "@jupyter-widgets/base",
            "_model_module_version": "1.5.0",
            "_view_count": null,
            "_view_module_version": "1.2.0",
            "_model_module": "@jupyter-widgets/controls"
          }
        },
        "c01ff59351374a14adfb433f29f55391": {
          "model_module": "@jupyter-widgets/base",
          "model_name": "LayoutModel",
          "state": {
            "_view_name": "LayoutView",
            "grid_template_rows": null,
            "right": null,
            "justify_content": null,
            "_view_module": "@jupyter-widgets/base",
            "overflow": null,
            "_model_module_version": "1.2.0",
            "_view_count": null,
            "flex_flow": null,
            "width": null,
            "min_width": null,
            "border": null,
            "align_items": null,
            "bottom": null,
            "_model_module": "@jupyter-widgets/base",
            "top": null,
            "grid_column": null,
            "overflow_y": null,
            "overflow_x": null,
            "grid_auto_flow": null,
            "grid_area": null,
            "grid_template_columns": null,
            "flex": null,
            "_model_name": "LayoutModel",
            "justify_items": null,
            "grid_row": null,
            "max_height": null,
            "align_content": null,
            "visibility": null,
            "align_self": null,
            "height": null,
            "min_height": null,
            "padding": null,
            "grid_auto_rows": null,
            "grid_gap": null,
            "max_width": null,
            "order": null,
            "_view_module_version": "1.2.0",
            "grid_template_areas": null,
            "object_position": null,
            "object_fit": null,
            "grid_auto_columns": null,
            "margin": null,
            "display": null,
            "left": null
          }
        },
        "3ed0ca50a42045c1b3153b16b31b5773": {
          "model_module": "@jupyter-widgets/controls",
          "model_name": "HBoxModel",
          "state": {
            "_view_name": "HBoxView",
            "_dom_classes": [],
            "_model_name": "HBoxModel",
            "_view_module": "@jupyter-widgets/controls",
            "_model_module_version": "1.5.0",
            "_view_count": null,
            "_view_module_version": "1.5.0",
            "box_style": "",
            "layout": "IPY_MODEL_14befd19a6b74e14884894a12314389c",
            "_model_module": "@jupyter-widgets/controls",
            "children": [
              "IPY_MODEL_e6d2c3214323446c8b1248be8f2c8667",
              "IPY_MODEL_f8e1be2df2d342e19f6813230544e555"
            ]
          }
        },
        "14befd19a6b74e14884894a12314389c": {
          "model_module": "@jupyter-widgets/base",
          "model_name": "LayoutModel",
          "state": {
            "_view_name": "LayoutView",
            "grid_template_rows": null,
            "right": null,
            "justify_content": null,
            "_view_module": "@jupyter-widgets/base",
            "overflow": null,
            "_model_module_version": "1.2.0",
            "_view_count": null,
            "flex_flow": null,
            "width": null,
            "min_width": null,
            "border": null,
            "align_items": null,
            "bottom": null,
            "_model_module": "@jupyter-widgets/base",
            "top": null,
            "grid_column": null,
            "overflow_y": null,
            "overflow_x": null,
            "grid_auto_flow": null,
            "grid_area": null,
            "grid_template_columns": null,
            "flex": null,
            "_model_name": "LayoutModel",
            "justify_items": null,
            "grid_row": null,
            "max_height": null,
            "align_content": null,
            "visibility": null,
            "align_self": null,
            "height": null,
            "min_height": null,
            "padding": null,
            "grid_auto_rows": null,
            "grid_gap": null,
            "max_width": null,
            "order": null,
            "_view_module_version": "1.2.0",
            "grid_template_areas": null,
            "object_position": null,
            "object_fit": null,
            "grid_auto_columns": null,
            "margin": null,
            "display": null,
            "left": null
          }
        },
        "e6d2c3214323446c8b1248be8f2c8667": {
          "model_module": "@jupyter-widgets/controls",
          "model_name": "FloatProgressModel",
          "state": {
            "_view_name": "ProgressView",
            "style": "IPY_MODEL_c4f7c12e25084b329e0cb1f0194a0590",
            "_dom_classes": [],
            "description": "Downloading: 100%",
            "_model_name": "FloatProgressModel",
            "bar_style": "success",
            "max": 557941479,
            "_view_module": "@jupyter-widgets/controls",
            "_model_module_version": "1.5.0",
            "value": 557941479,
            "_view_count": null,
            "_view_module_version": "1.5.0",
            "orientation": "horizontal",
            "min": 0,
            "description_tooltip": null,
            "_model_module": "@jupyter-widgets/controls",
            "layout": "IPY_MODEL_e32dabdc254f42af9fc2611bad0eafe6"
          }
        },
        "f8e1be2df2d342e19f6813230544e555": {
          "model_module": "@jupyter-widgets/controls",
          "model_name": "HTMLModel",
          "state": {
            "_view_name": "HTMLView",
            "style": "IPY_MODEL_839afd87fa61480487216ee712b590c0",
            "_dom_classes": [],
            "description": "",
            "_model_name": "HTMLModel",
            "placeholder": "​",
            "_view_module": "@jupyter-widgets/controls",
            "_model_module_version": "1.5.0",
            "value": " 558M/558M [00:10&lt;00:00, 52.4MB/s]",
            "_view_count": null,
            "_view_module_version": "1.5.0",
            "description_tooltip": null,
            "_model_module": "@jupyter-widgets/controls",
            "layout": "IPY_MODEL_6bdde04cb7374a309eb6c4c28ef9c280"
          }
        },
        "c4f7c12e25084b329e0cb1f0194a0590": {
          "model_module": "@jupyter-widgets/controls",
          "model_name": "ProgressStyleModel",
          "state": {
            "_view_name": "StyleView",
            "_model_name": "ProgressStyleModel",
            "description_width": "initial",
            "_view_module": "@jupyter-widgets/base",
            "_model_module_version": "1.5.0",
            "_view_count": null,
            "_view_module_version": "1.2.0",
            "bar_color": null,
            "_model_module": "@jupyter-widgets/controls"
          }
        },
        "e32dabdc254f42af9fc2611bad0eafe6": {
          "model_module": "@jupyter-widgets/base",
          "model_name": "LayoutModel",
          "state": {
            "_view_name": "LayoutView",
            "grid_template_rows": null,
            "right": null,
            "justify_content": null,
            "_view_module": "@jupyter-widgets/base",
            "overflow": null,
            "_model_module_version": "1.2.0",
            "_view_count": null,
            "flex_flow": null,
            "width": null,
            "min_width": null,
            "border": null,
            "align_items": null,
            "bottom": null,
            "_model_module": "@jupyter-widgets/base",
            "top": null,
            "grid_column": null,
            "overflow_y": null,
            "overflow_x": null,
            "grid_auto_flow": null,
            "grid_area": null,
            "grid_template_columns": null,
            "flex": null,
            "_model_name": "LayoutModel",
            "justify_items": null,
            "grid_row": null,
            "max_height": null,
            "align_content": null,
            "visibility": null,
            "align_self": null,
            "height": null,
            "min_height": null,
            "padding": null,
            "grid_auto_rows": null,
            "grid_gap": null,
            "max_width": null,
            "order": null,
            "_view_module_version": "1.2.0",
            "grid_template_areas": null,
            "object_position": null,
            "object_fit": null,
            "grid_auto_columns": null,
            "margin": null,
            "display": null,
            "left": null
          }
        },
        "839afd87fa61480487216ee712b590c0": {
          "model_module": "@jupyter-widgets/controls",
          "model_name": "DescriptionStyleModel",
          "state": {
            "_view_name": "StyleView",
            "_model_name": "DescriptionStyleModel",
            "description_width": "",
            "_view_module": "@jupyter-widgets/base",
            "_model_module_version": "1.5.0",
            "_view_count": null,
            "_view_module_version": "1.2.0",
            "_model_module": "@jupyter-widgets/controls"
          }
        },
        "6bdde04cb7374a309eb6c4c28ef9c280": {
          "model_module": "@jupyter-widgets/base",
          "model_name": "LayoutModel",
          "state": {
            "_view_name": "LayoutView",
            "grid_template_rows": null,
            "right": null,
            "justify_content": null,
            "_view_module": "@jupyter-widgets/base",
            "overflow": null,
            "_model_module_version": "1.2.0",
            "_view_count": null,
            "flex_flow": null,
            "width": null,
            "min_width": null,
            "border": null,
            "align_items": null,
            "bottom": null,
            "_model_module": "@jupyter-widgets/base",
            "top": null,
            "grid_column": null,
            "overflow_y": null,
            "overflow_x": null,
            "grid_auto_flow": null,
            "grid_area": null,
            "grid_template_columns": null,
            "flex": null,
            "_model_name": "LayoutModel",
            "justify_items": null,
            "grid_row": null,
            "max_height": null,
            "align_content": null,
            "visibility": null,
            "align_self": null,
            "height": null,
            "min_height": null,
            "padding": null,
            "grid_auto_rows": null,
            "grid_gap": null,
            "max_width": null,
            "order": null,
            "_view_module_version": "1.2.0",
            "grid_template_areas": null,
            "object_position": null,
            "object_fit": null,
            "grid_auto_columns": null,
            "margin": null,
            "display": null,
            "left": null
          }
        },
        "fb5c9b5af3e64e0984ded2ced7999e48": {
          "model_module": "@jupyter-widgets/controls",
          "model_name": "HBoxModel",
          "state": {
            "_view_name": "HBoxView",
            "_dom_classes": [],
            "_model_name": "HBoxModel",
            "_view_module": "@jupyter-widgets/controls",
            "_model_module_version": "1.5.0",
            "_view_count": null,
            "_view_module_version": "1.5.0",
            "box_style": "",
            "layout": "IPY_MODEL_05a23eab5404424f9f4b34d0563f4c3b",
            "_model_module": "@jupyter-widgets/controls",
            "children": [
              "IPY_MODEL_7e63e51a7b3f48069f5b9a8c2025b309",
              "IPY_MODEL_eae6e5f8dba948e5a4095da4fbfde42c"
            ]
          }
        },
        "05a23eab5404424f9f4b34d0563f4c3b": {
          "model_module": "@jupyter-widgets/base",
          "model_name": "LayoutModel",
          "state": {
            "_view_name": "LayoutView",
            "grid_template_rows": null,
            "right": null,
            "justify_content": null,
            "_view_module": "@jupyter-widgets/base",
            "overflow": null,
            "_model_module_version": "1.2.0",
            "_view_count": null,
            "flex_flow": "row wrap",
            "width": "100%",
            "min_width": null,
            "border": null,
            "align_items": null,
            "bottom": null,
            "_model_module": "@jupyter-widgets/base",
            "top": null,
            "grid_column": null,
            "overflow_y": null,
            "overflow_x": null,
            "grid_auto_flow": null,
            "grid_area": null,
            "grid_template_columns": null,
            "flex": null,
            "_model_name": "LayoutModel",
            "justify_items": null,
            "grid_row": null,
            "max_height": null,
            "align_content": null,
            "visibility": null,
            "align_self": null,
            "height": null,
            "min_height": null,
            "padding": null,
            "grid_auto_rows": null,
            "grid_gap": null,
            "max_width": null,
            "order": null,
            "_view_module_version": "1.2.0",
            "grid_template_areas": null,
            "object_position": null,
            "object_fit": null,
            "grid_auto_columns": null,
            "margin": null,
            "display": "inline-flex",
            "left": null
          }
        },
        "7e63e51a7b3f48069f5b9a8c2025b309": {
          "model_module": "@jupyter-widgets/controls",
          "model_name": "FloatProgressModel",
          "state": {
            "_view_name": "ProgressView",
            "style": "IPY_MODEL_209ba1f4481d4429aaeeadfde9000815",
            "_dom_classes": [],
            "description": "Validation sanity check:   0%",
            "_model_name": "FloatProgressModel",
            "bar_style": "danger",
            "max": 2,
            "_view_module": "@jupyter-widgets/controls",
            "_model_module_version": "1.5.0",
            "value": 0,
            "_view_count": null,
            "_view_module_version": "1.5.0",
            "orientation": "horizontal",
            "min": 0,
            "description_tooltip": null,
            "_model_module": "@jupyter-widgets/controls",
            "layout": "IPY_MODEL_a8a8c0d0137c4e77b9439082bf6e4974"
          }
        },
        "eae6e5f8dba948e5a4095da4fbfde42c": {
          "model_module": "@jupyter-widgets/controls",
          "model_name": "HTMLModel",
          "state": {
            "_view_name": "HTMLView",
            "style": "IPY_MODEL_2967b4b7c5fb488fa528c7700c08cac9",
            "_dom_classes": [],
            "description": "",
            "_model_name": "HTMLModel",
            "placeholder": "​",
            "_view_module": "@jupyter-widgets/controls",
            "_model_module_version": "1.5.0",
            "value": " 0/2 [19:12&lt;?, ?it/s]",
            "_view_count": null,
            "_view_module_version": "1.5.0",
            "description_tooltip": null,
            "_model_module": "@jupyter-widgets/controls",
            "layout": "IPY_MODEL_7012e989330b40e49b5feb354808dd03"
          }
        },
        "209ba1f4481d4429aaeeadfde9000815": {
          "model_module": "@jupyter-widgets/controls",
          "model_name": "ProgressStyleModel",
          "state": {
            "_view_name": "StyleView",
            "_model_name": "ProgressStyleModel",
            "description_width": "initial",
            "_view_module": "@jupyter-widgets/base",
            "_model_module_version": "1.5.0",
            "_view_count": null,
            "_view_module_version": "1.2.0",
            "bar_color": null,
            "_model_module": "@jupyter-widgets/controls"
          }
        },
        "a8a8c0d0137c4e77b9439082bf6e4974": {
          "model_module": "@jupyter-widgets/base",
          "model_name": "LayoutModel",
          "state": {
            "_view_name": "LayoutView",
            "grid_template_rows": null,
            "right": null,
            "justify_content": null,
            "_view_module": "@jupyter-widgets/base",
            "overflow": null,
            "_model_module_version": "1.2.0",
            "_view_count": null,
            "flex_flow": null,
            "width": null,
            "min_width": null,
            "border": null,
            "align_items": null,
            "bottom": null,
            "_model_module": "@jupyter-widgets/base",
            "top": null,
            "grid_column": null,
            "overflow_y": null,
            "overflow_x": null,
            "grid_auto_flow": null,
            "grid_area": null,
            "grid_template_columns": null,
            "flex": "2",
            "_model_name": "LayoutModel",
            "justify_items": null,
            "grid_row": null,
            "max_height": null,
            "align_content": null,
            "visibility": null,
            "align_self": null,
            "height": null,
            "min_height": null,
            "padding": null,
            "grid_auto_rows": null,
            "grid_gap": null,
            "max_width": null,
            "order": null,
            "_view_module_version": "1.2.0",
            "grid_template_areas": null,
            "object_position": null,
            "object_fit": null,
            "grid_auto_columns": null,
            "margin": null,
            "display": null,
            "left": null
          }
        },
        "2967b4b7c5fb488fa528c7700c08cac9": {
          "model_module": "@jupyter-widgets/controls",
          "model_name": "DescriptionStyleModel",
          "state": {
            "_view_name": "StyleView",
            "_model_name": "DescriptionStyleModel",
            "description_width": "",
            "_view_module": "@jupyter-widgets/base",
            "_model_module_version": "1.5.0",
            "_view_count": null,
            "_view_module_version": "1.2.0",
            "_model_module": "@jupyter-widgets/controls"
          }
        },
        "7012e989330b40e49b5feb354808dd03": {
          "model_module": "@jupyter-widgets/base",
          "model_name": "LayoutModel",
          "state": {
            "_view_name": "LayoutView",
            "grid_template_rows": null,
            "right": null,
            "justify_content": null,
            "_view_module": "@jupyter-widgets/base",
            "overflow": null,
            "_model_module_version": "1.2.0",
            "_view_count": null,
            "flex_flow": null,
            "width": null,
            "min_width": null,
            "border": null,
            "align_items": null,
            "bottom": null,
            "_model_module": "@jupyter-widgets/base",
            "top": null,
            "grid_column": null,
            "overflow_y": null,
            "overflow_x": null,
            "grid_auto_flow": null,
            "grid_area": null,
            "grid_template_columns": null,
            "flex": null,
            "_model_name": "LayoutModel",
            "justify_items": null,
            "grid_row": null,
            "max_height": null,
            "align_content": null,
            "visibility": null,
            "align_self": null,
            "height": null,
            "min_height": null,
            "padding": null,
            "grid_auto_rows": null,
            "grid_gap": null,
            "max_width": null,
            "order": null,
            "_view_module_version": "1.2.0",
            "grid_template_areas": null,
            "object_position": null,
            "object_fit": null,
            "grid_auto_columns": null,
            "margin": null,
            "display": null,
            "left": null
          }
        },
        "b8fe57f80624454d989a6f83a1f955d5": {
          "model_module": "@jupyter-widgets/controls",
          "model_name": "HBoxModel",
          "state": {
            "_view_name": "HBoxView",
            "_dom_classes": [],
            "_model_name": "HBoxModel",
            "_view_module": "@jupyter-widgets/controls",
            "_model_module_version": "1.5.0",
            "_view_count": null,
            "_view_module_version": "1.5.0",
            "box_style": "",
            "layout": "IPY_MODEL_8ba8cdab7d534c178bcf962aff78824f",
            "_model_module": "@jupyter-widgets/controls",
            "children": [
              "IPY_MODEL_5dbe531efeb6490baa6ceaea38f7f07c",
              "IPY_MODEL_9bda18acb04f4c448305f8bb1ef4742f"
            ]
          }
        },
        "8ba8cdab7d534c178bcf962aff78824f": {
          "model_module": "@jupyter-widgets/base",
          "model_name": "LayoutModel",
          "state": {
            "_view_name": "LayoutView",
            "grid_template_rows": null,
            "right": null,
            "justify_content": null,
            "_view_module": "@jupyter-widgets/base",
            "overflow": null,
            "_model_module_version": "1.2.0",
            "_view_count": null,
            "flex_flow": "row wrap",
            "width": "100%",
            "min_width": null,
            "border": null,
            "align_items": null,
            "bottom": null,
            "_model_module": "@jupyter-widgets/base",
            "top": null,
            "grid_column": null,
            "overflow_y": null,
            "overflow_x": null,
            "grid_auto_flow": null,
            "grid_area": null,
            "grid_template_columns": null,
            "flex": null,
            "_model_name": "LayoutModel",
            "justify_items": null,
            "grid_row": null,
            "max_height": null,
            "align_content": null,
            "visibility": null,
            "align_self": null,
            "height": null,
            "min_height": null,
            "padding": null,
            "grid_auto_rows": null,
            "grid_gap": null,
            "max_width": null,
            "order": null,
            "_view_module_version": "1.2.0",
            "grid_template_areas": null,
            "object_position": null,
            "object_fit": null,
            "grid_auto_columns": null,
            "margin": null,
            "display": "inline-flex",
            "left": null
          }
        },
        "5dbe531efeb6490baa6ceaea38f7f07c": {
          "model_module": "@jupyter-widgets/controls",
          "model_name": "FloatProgressModel",
          "state": {
            "_view_name": "ProgressView",
            "style": "IPY_MODEL_4044cefda37f4c6fb32f76a88d60e5db",
            "_dom_classes": [],
            "description": "Epoch 1: 100%",
            "_model_name": "FloatProgressModel",
            "bar_style": "success",
            "max": 7000,
            "_view_module": "@jupyter-widgets/controls",
            "_model_module_version": "1.5.0",
            "value": 7000,
            "_view_count": null,
            "_view_module_version": "1.5.0",
            "orientation": "horizontal",
            "min": 0,
            "description_tooltip": null,
            "_model_module": "@jupyter-widgets/controls",
            "layout": "IPY_MODEL_cff8341dee4b4b11948dfb1f2ec88737"
          }
        },
        "9bda18acb04f4c448305f8bb1ef4742f": {
          "model_module": "@jupyter-widgets/controls",
          "model_name": "HTMLModel",
          "state": {
            "_view_name": "HTMLView",
            "style": "IPY_MODEL_f3822d0dedab438fa287a7ebb74c6eb7",
            "_dom_classes": [],
            "description": "",
            "_model_name": "HTMLModel",
            "placeholder": "​",
            "_view_module": "@jupyter-widgets/controls",
            "_model_module_version": "1.5.0",
            "value": " 7000/7000 [07:37&lt;00:00, 15.29it/s, loss=3.91, v_num=0]",
            "_view_count": null,
            "_view_module_version": "1.5.0",
            "description_tooltip": null,
            "_model_module": "@jupyter-widgets/controls",
            "layout": "IPY_MODEL_e566e273d32e404f8d9ccadfd9a54d90"
          }
        },
        "4044cefda37f4c6fb32f76a88d60e5db": {
          "model_module": "@jupyter-widgets/controls",
          "model_name": "ProgressStyleModel",
          "state": {
            "_view_name": "StyleView",
            "_model_name": "ProgressStyleModel",
            "description_width": "initial",
            "_view_module": "@jupyter-widgets/base",
            "_model_module_version": "1.5.0",
            "_view_count": null,
            "_view_module_version": "1.2.0",
            "bar_color": null,
            "_model_module": "@jupyter-widgets/controls"
          }
        },
        "cff8341dee4b4b11948dfb1f2ec88737": {
          "model_module": "@jupyter-widgets/base",
          "model_name": "LayoutModel",
          "state": {
            "_view_name": "LayoutView",
            "grid_template_rows": null,
            "right": null,
            "justify_content": null,
            "_view_module": "@jupyter-widgets/base",
            "overflow": null,
            "_model_module_version": "1.2.0",
            "_view_count": null,
            "flex_flow": null,
            "width": null,
            "min_width": null,
            "border": null,
            "align_items": null,
            "bottom": null,
            "_model_module": "@jupyter-widgets/base",
            "top": null,
            "grid_column": null,
            "overflow_y": null,
            "overflow_x": null,
            "grid_auto_flow": null,
            "grid_area": null,
            "grid_template_columns": null,
            "flex": "2",
            "_model_name": "LayoutModel",
            "justify_items": null,
            "grid_row": null,
            "max_height": null,
            "align_content": null,
            "visibility": null,
            "align_self": null,
            "height": null,
            "min_height": null,
            "padding": null,
            "grid_auto_rows": null,
            "grid_gap": null,
            "max_width": null,
            "order": null,
            "_view_module_version": "1.2.0",
            "grid_template_areas": null,
            "object_position": null,
            "object_fit": null,
            "grid_auto_columns": null,
            "margin": null,
            "display": null,
            "left": null
          }
        },
        "f3822d0dedab438fa287a7ebb74c6eb7": {
          "model_module": "@jupyter-widgets/controls",
          "model_name": "DescriptionStyleModel",
          "state": {
            "_view_name": "StyleView",
            "_model_name": "DescriptionStyleModel",
            "description_width": "",
            "_view_module": "@jupyter-widgets/base",
            "_model_module_version": "1.5.0",
            "_view_count": null,
            "_view_module_version": "1.2.0",
            "_model_module": "@jupyter-widgets/controls"
          }
        },
        "e566e273d32e404f8d9ccadfd9a54d90": {
          "model_module": "@jupyter-widgets/base",
          "model_name": "LayoutModel",
          "state": {
            "_view_name": "LayoutView",
            "grid_template_rows": null,
            "right": null,
            "justify_content": null,
            "_view_module": "@jupyter-widgets/base",
            "overflow": null,
            "_model_module_version": "1.2.0",
            "_view_count": null,
            "flex_flow": null,
            "width": null,
            "min_width": null,
            "border": null,
            "align_items": null,
            "bottom": null,
            "_model_module": "@jupyter-widgets/base",
            "top": null,
            "grid_column": null,
            "overflow_y": null,
            "overflow_x": null,
            "grid_auto_flow": null,
            "grid_area": null,
            "grid_template_columns": null,
            "flex": null,
            "_model_name": "LayoutModel",
            "justify_items": null,
            "grid_row": null,
            "max_height": null,
            "align_content": null,
            "visibility": null,
            "align_self": null,
            "height": null,
            "min_height": null,
            "padding": null,
            "grid_auto_rows": null,
            "grid_gap": null,
            "max_width": null,
            "order": null,
            "_view_module_version": "1.2.0",
            "grid_template_areas": null,
            "object_position": null,
            "object_fit": null,
            "grid_auto_columns": null,
            "margin": null,
            "display": null,
            "left": null
          }
        },
        "9c289add5e184db087522dd815aa860a": {
          "model_module": "@jupyter-widgets/controls",
          "model_name": "HBoxModel",
          "state": {
            "_view_name": "HBoxView",
            "_dom_classes": [],
            "_model_name": "HBoxModel",
            "_view_module": "@jupyter-widgets/controls",
            "_model_module_version": "1.5.0",
            "_view_count": null,
            "_view_module_version": "1.5.0",
            "box_style": "",
            "layout": "IPY_MODEL_12de214ff399410e890435c656a928aa",
            "_model_module": "@jupyter-widgets/controls",
            "children": [
              "IPY_MODEL_4457e9f0e55141b4b38c2a085f4565b7",
              "IPY_MODEL_a7a7cee09590498eb5cc179ffe92aeed"
            ]
          }
        },
        "12de214ff399410e890435c656a928aa": {
          "model_module": "@jupyter-widgets/base",
          "model_name": "LayoutModel",
          "state": {
            "_view_name": "LayoutView",
            "grid_template_rows": null,
            "right": null,
            "justify_content": null,
            "_view_module": "@jupyter-widgets/base",
            "overflow": null,
            "_model_module_version": "1.2.0",
            "_view_count": null,
            "flex_flow": "row wrap",
            "width": "100%",
            "min_width": null,
            "border": null,
            "align_items": null,
            "bottom": null,
            "_model_module": "@jupyter-widgets/base",
            "top": null,
            "grid_column": null,
            "overflow_y": null,
            "overflow_x": null,
            "grid_auto_flow": null,
            "grid_area": null,
            "grid_template_columns": null,
            "flex": null,
            "_model_name": "LayoutModel",
            "justify_items": null,
            "grid_row": null,
            "max_height": null,
            "align_content": null,
            "visibility": null,
            "align_self": null,
            "height": null,
            "min_height": null,
            "padding": null,
            "grid_auto_rows": null,
            "grid_gap": null,
            "max_width": null,
            "order": null,
            "_view_module_version": "1.2.0",
            "grid_template_areas": null,
            "object_position": null,
            "object_fit": null,
            "grid_auto_columns": null,
            "margin": null,
            "display": "inline-flex",
            "left": null
          }
        },
        "4457e9f0e55141b4b38c2a085f4565b7": {
          "model_module": "@jupyter-widgets/controls",
          "model_name": "FloatProgressModel",
          "state": {
            "_view_name": "ProgressView",
            "style": "IPY_MODEL_90c358ccb5d8463c9971599e92422f87",
            "_dom_classes": [],
            "description": "Validating: 100%",
            "_model_name": "FloatProgressModel",
            "bar_style": "info",
            "max": 1750,
            "_view_module": "@jupyter-widgets/controls",
            "_model_module_version": "1.5.0",
            "value": 1750,
            "_view_count": null,
            "_view_module_version": "1.5.0",
            "orientation": "horizontal",
            "min": 0,
            "description_tooltip": null,
            "_model_module": "@jupyter-widgets/controls",
            "layout": "IPY_MODEL_41d948ba96134d66be1c45e38f91e4a8"
          }
        },
        "a7a7cee09590498eb5cc179ffe92aeed": {
          "model_module": "@jupyter-widgets/controls",
          "model_name": "HTMLModel",
          "state": {
            "_view_name": "HTMLView",
            "style": "IPY_MODEL_2760d99157544101b6f5bdd472f054ee",
            "_dom_classes": [],
            "description": "",
            "_model_name": "HTMLModel",
            "placeholder": "​",
            "_view_module": "@jupyter-widgets/controls",
            "_model_module_version": "1.5.0",
            "value": " 1750/1750 [00:32&lt;00:00, 53.48it/s]",
            "_view_count": null,
            "_view_module_version": "1.5.0",
            "description_tooltip": null,
            "_model_module": "@jupyter-widgets/controls",
            "layout": "IPY_MODEL_fa8b1a881bb04637a99bbb458d3961d6"
          }
        },
        "90c358ccb5d8463c9971599e92422f87": {
          "model_module": "@jupyter-widgets/controls",
          "model_name": "ProgressStyleModel",
          "state": {
            "_view_name": "StyleView",
            "_model_name": "ProgressStyleModel",
            "description_width": "initial",
            "_view_module": "@jupyter-widgets/base",
            "_model_module_version": "1.5.0",
            "_view_count": null,
            "_view_module_version": "1.2.0",
            "bar_color": null,
            "_model_module": "@jupyter-widgets/controls"
          }
        },
        "41d948ba96134d66be1c45e38f91e4a8": {
          "model_module": "@jupyter-widgets/base",
          "model_name": "LayoutModel",
          "state": {
            "_view_name": "LayoutView",
            "grid_template_rows": null,
            "right": null,
            "justify_content": null,
            "_view_module": "@jupyter-widgets/base",
            "overflow": null,
            "_model_module_version": "1.2.0",
            "_view_count": null,
            "flex_flow": null,
            "width": null,
            "min_width": null,
            "border": null,
            "align_items": null,
            "bottom": null,
            "_model_module": "@jupyter-widgets/base",
            "top": null,
            "grid_column": null,
            "overflow_y": null,
            "overflow_x": null,
            "grid_auto_flow": null,
            "grid_area": null,
            "grid_template_columns": null,
            "flex": "2",
            "_model_name": "LayoutModel",
            "justify_items": null,
            "grid_row": null,
            "max_height": null,
            "align_content": null,
            "visibility": null,
            "align_self": null,
            "height": null,
            "min_height": null,
            "padding": null,
            "grid_auto_rows": null,
            "grid_gap": null,
            "max_width": null,
            "order": null,
            "_view_module_version": "1.2.0",
            "grid_template_areas": null,
            "object_position": null,
            "object_fit": null,
            "grid_auto_columns": null,
            "margin": null,
            "display": null,
            "left": null
          }
        },
        "2760d99157544101b6f5bdd472f054ee": {
          "model_module": "@jupyter-widgets/controls",
          "model_name": "DescriptionStyleModel",
          "state": {
            "_view_name": "StyleView",
            "_model_name": "DescriptionStyleModel",
            "description_width": "",
            "_view_module": "@jupyter-widgets/base",
            "_model_module_version": "1.5.0",
            "_view_count": null,
            "_view_module_version": "1.2.0",
            "_model_module": "@jupyter-widgets/controls"
          }
        },
        "fa8b1a881bb04637a99bbb458d3961d6": {
          "model_module": "@jupyter-widgets/base",
          "model_name": "LayoutModel",
          "state": {
            "_view_name": "LayoutView",
            "grid_template_rows": null,
            "right": null,
            "justify_content": null,
            "_view_module": "@jupyter-widgets/base",
            "overflow": null,
            "_model_module_version": "1.2.0",
            "_view_count": null,
            "flex_flow": null,
            "width": null,
            "min_width": null,
            "border": null,
            "align_items": null,
            "bottom": null,
            "_model_module": "@jupyter-widgets/base",
            "top": null,
            "grid_column": null,
            "overflow_y": null,
            "overflow_x": null,
            "grid_auto_flow": null,
            "grid_area": null,
            "grid_template_columns": null,
            "flex": null,
            "_model_name": "LayoutModel",
            "justify_items": null,
            "grid_row": null,
            "max_height": null,
            "align_content": null,
            "visibility": null,
            "align_self": null,
            "height": null,
            "min_height": null,
            "padding": null,
            "grid_auto_rows": null,
            "grid_gap": null,
            "max_width": null,
            "order": null,
            "_view_module_version": "1.2.0",
            "grid_template_areas": null,
            "object_position": null,
            "object_fit": null,
            "grid_auto_columns": null,
            "margin": null,
            "display": null,
            "left": null
          }
        },
        "0b6c799c5dc9430e9c8f919e2a7deabe": {
          "model_module": "@jupyter-widgets/controls",
          "model_name": "HBoxModel",
          "state": {
            "_view_name": "HBoxView",
            "_dom_classes": [],
            "_model_name": "HBoxModel",
            "_view_module": "@jupyter-widgets/controls",
            "_model_module_version": "1.5.0",
            "_view_count": null,
            "_view_module_version": "1.5.0",
            "box_style": "",
            "layout": "IPY_MODEL_601190004cd94642a2882630e4b5abf3",
            "_model_module": "@jupyter-widgets/controls",
            "children": [
              "IPY_MODEL_7915387056544d4d8ee1edd534ea80de",
              "IPY_MODEL_3a5eea0c37d24ca79f2539087631ac65"
            ]
          }
        },
        "601190004cd94642a2882630e4b5abf3": {
          "model_module": "@jupyter-widgets/base",
          "model_name": "LayoutModel",
          "state": {
            "_view_name": "LayoutView",
            "grid_template_rows": null,
            "right": null,
            "justify_content": null,
            "_view_module": "@jupyter-widgets/base",
            "overflow": null,
            "_model_module_version": "1.2.0",
            "_view_count": null,
            "flex_flow": "row wrap",
            "width": "100%",
            "min_width": null,
            "border": null,
            "align_items": null,
            "bottom": null,
            "_model_module": "@jupyter-widgets/base",
            "top": null,
            "grid_column": null,
            "overflow_y": null,
            "overflow_x": null,
            "grid_auto_flow": null,
            "grid_area": null,
            "grid_template_columns": null,
            "flex": null,
            "_model_name": "LayoutModel",
            "justify_items": null,
            "grid_row": null,
            "max_height": null,
            "align_content": null,
            "visibility": null,
            "align_self": null,
            "height": null,
            "min_height": null,
            "padding": null,
            "grid_auto_rows": null,
            "grid_gap": null,
            "max_width": null,
            "order": null,
            "_view_module_version": "1.2.0",
            "grid_template_areas": null,
            "object_position": null,
            "object_fit": null,
            "grid_auto_columns": null,
            "margin": null,
            "display": "inline-flex",
            "left": null
          }
        },
        "7915387056544d4d8ee1edd534ea80de": {
          "model_module": "@jupyter-widgets/controls",
          "model_name": "FloatProgressModel",
          "state": {
            "_view_name": "ProgressView",
            "style": "IPY_MODEL_42020a6001d546f98e900ad525554305",
            "_dom_classes": [],
            "description": "Validating: 100%",
            "_model_name": "FloatProgressModel",
            "bar_style": "info",
            "max": 1750,
            "_view_module": "@jupyter-widgets/controls",
            "_model_module_version": "1.5.0",
            "value": 1750,
            "_view_count": null,
            "_view_module_version": "1.5.0",
            "orientation": "horizontal",
            "min": 0,
            "description_tooltip": null,
            "_model_module": "@jupyter-widgets/controls",
            "layout": "IPY_MODEL_4443667565034106bfa794b291b6ad90"
          }
        },
        "3a5eea0c37d24ca79f2539087631ac65": {
          "model_module": "@jupyter-widgets/controls",
          "model_name": "HTMLModel",
          "state": {
            "_view_name": "HTMLView",
            "style": "IPY_MODEL_912a4d6e90d948eeab754539e31b2998",
            "_dom_classes": [],
            "description": "",
            "_model_name": "HTMLModel",
            "placeholder": "​",
            "_view_module": "@jupyter-widgets/controls",
            "_model_module_version": "1.5.0",
            "value": " 1750/1750 [00:32&lt;00:00, 53.48it/s]",
            "_view_count": null,
            "_view_module_version": "1.5.0",
            "description_tooltip": null,
            "_model_module": "@jupyter-widgets/controls",
            "layout": "IPY_MODEL_91d3dd89f667431b9f13e2bdd0b97540"
          }
        },
        "42020a6001d546f98e900ad525554305": {
          "model_module": "@jupyter-widgets/controls",
          "model_name": "ProgressStyleModel",
          "state": {
            "_view_name": "StyleView",
            "_model_name": "ProgressStyleModel",
            "description_width": "initial",
            "_view_module": "@jupyter-widgets/base",
            "_model_module_version": "1.5.0",
            "_view_count": null,
            "_view_module_version": "1.2.0",
            "bar_color": null,
            "_model_module": "@jupyter-widgets/controls"
          }
        },
        "4443667565034106bfa794b291b6ad90": {
          "model_module": "@jupyter-widgets/base",
          "model_name": "LayoutModel",
          "state": {
            "_view_name": "LayoutView",
            "grid_template_rows": null,
            "right": null,
            "justify_content": null,
            "_view_module": "@jupyter-widgets/base",
            "overflow": null,
            "_model_module_version": "1.2.0",
            "_view_count": null,
            "flex_flow": null,
            "width": null,
            "min_width": null,
            "border": null,
            "align_items": null,
            "bottom": null,
            "_model_module": "@jupyter-widgets/base",
            "top": null,
            "grid_column": null,
            "overflow_y": null,
            "overflow_x": null,
            "grid_auto_flow": null,
            "grid_area": null,
            "grid_template_columns": null,
            "flex": "2",
            "_model_name": "LayoutModel",
            "justify_items": null,
            "grid_row": null,
            "max_height": null,
            "align_content": null,
            "visibility": null,
            "align_self": null,
            "height": null,
            "min_height": null,
            "padding": null,
            "grid_auto_rows": null,
            "grid_gap": null,
            "max_width": null,
            "order": null,
            "_view_module_version": "1.2.0",
            "grid_template_areas": null,
            "object_position": null,
            "object_fit": null,
            "grid_auto_columns": null,
            "margin": null,
            "display": null,
            "left": null
          }
        },
        "912a4d6e90d948eeab754539e31b2998": {
          "model_module": "@jupyter-widgets/controls",
          "model_name": "DescriptionStyleModel",
          "state": {
            "_view_name": "StyleView",
            "_model_name": "DescriptionStyleModel",
            "description_width": "",
            "_view_module": "@jupyter-widgets/base",
            "_model_module_version": "1.5.0",
            "_view_count": null,
            "_view_module_version": "1.2.0",
            "_model_module": "@jupyter-widgets/controls"
          }
        },
        "91d3dd89f667431b9f13e2bdd0b97540": {
          "model_module": "@jupyter-widgets/base",
          "model_name": "LayoutModel",
          "state": {
            "_view_name": "LayoutView",
            "grid_template_rows": null,
            "right": null,
            "justify_content": null,
            "_view_module": "@jupyter-widgets/base",
            "overflow": null,
            "_model_module_version": "1.2.0",
            "_view_count": null,
            "flex_flow": null,
            "width": null,
            "min_width": null,
            "border": null,
            "align_items": null,
            "bottom": null,
            "_model_module": "@jupyter-widgets/base",
            "top": null,
            "grid_column": null,
            "overflow_y": null,
            "overflow_x": null,
            "grid_auto_flow": null,
            "grid_area": null,
            "grid_template_columns": null,
            "flex": null,
            "_model_name": "LayoutModel",
            "justify_items": null,
            "grid_row": null,
            "max_height": null,
            "align_content": null,
            "visibility": null,
            "align_self": null,
            "height": null,
            "min_height": null,
            "padding": null,
            "grid_auto_rows": null,
            "grid_gap": null,
            "max_width": null,
            "order": null,
            "_view_module_version": "1.2.0",
            "grid_template_areas": null,
            "object_position": null,
            "object_fit": null,
            "grid_auto_columns": null,
            "margin": null,
            "display": null,
            "left": null
          }
        }
      }
    }
  },
  "cells": [
    {
      "cell_type": "markdown",
      "metadata": {
        "id": "KHAjt_gmPE-1"
      },
      "source": [
        "##Setup\r\n",
        "\r\n"
      ]
    },
    {
      "cell_type": "code",
      "metadata": {
        "id": "B7EVTfMVdv4Z",
        "colab": {
          "base_uri": "https://localhost:8080/"
        },
        "outputId": "da9ddc3b-2a9d-41e2-bb18-5d6057d1572a"
      },
      "source": [
        "!pip install -q pytorch-lightning\n",
        "!pip install -q transformers"
      ],
      "execution_count": null,
      "outputs": [
        {
          "output_type": "stream",
          "text": [
            "\u001b[K     |████████████████████████████████| 829kB 9.4MB/s \n",
            "\u001b[K     |████████████████████████████████| 112kB 25.5MB/s \n",
            "\u001b[K     |████████████████████████████████| 829kB 14.4MB/s \n",
            "\u001b[K     |████████████████████████████████| 276kB 51.4MB/s \n",
            "\u001b[K     |████████████████████████████████| 1.3MB 47.9MB/s \n",
            "\u001b[K     |████████████████████████████████| 143kB 52.1MB/s \n",
            "\u001b[K     |████████████████████████████████| 296kB 50.0MB/s \n",
            "\u001b[?25h  Building wheel for future (setup.py) ... \u001b[?25l\u001b[?25hdone\n",
            "  Building wheel for PyYAML (setup.py) ... \u001b[?25l\u001b[?25hdone\n",
            "\u001b[K     |████████████████████████████████| 1.9MB 13.0MB/s \n",
            "\u001b[K     |████████████████████████████████| 890kB 51.4MB/s \n",
            "\u001b[K     |████████████████████████████████| 3.2MB 47.6MB/s \n",
            "\u001b[?25h  Building wheel for sacremoses (setup.py) ... \u001b[?25l\u001b[?25hdone\n"
          ],
          "name": "stdout"
        }
      ]
    },
    {
      "cell_type": "code",
      "metadata": {
        "id": "3fDnjiDoeZbK"
      },
      "source": [
        "import transformers\n",
        "from torch.utils.data import DataLoader, TensorDataset, random_split, RandomSampler, Dataset\n",
        "import pandas as pd\n",
        "import numpy as np\n",
        "\n",
        "import torch.nn.functional as F\n",
        "import pytorch_lightning as pl\n",
        "import torch\n",
        "from pytorch_lightning.callbacks import ModelCheckpoint\n",
        "\n",
        "from transformers import AutoModelWithLMHead, AutoTokenizer\n",
        "from torch.utils.data import TensorDataset, DataLoader, RandomSampler, SequentialSampler\n",
        "from keras.preprocessing.sequence import pad_sequences\n",
        "from sklearn.model_selection import train_test_split\n",
        "\n",
        "import math\n",
        "import random\n",
        "import re\n",
        "import argparse\n",
        "from tqdm import tqdm, trange\n",
        "import io"
      ],
      "execution_count": null,
      "outputs": []
    },
    {
      "cell_type": "code",
      "metadata": {
        "colab": {
          "resources": {
            "http://localhost:8080/nbextensions/google.colab/files.js": {
              "data": "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",
              "ok": true,
              "headers": [
                [
                  "content-type",
                  "application/javascript"
                ]
              ],
              "status": 200,
              "status_text": ""
            }
          },
          "base_uri": "https://localhost:8080/",
          "height": 158
        },
        "id": "O48p2-T9J7lb",
        "outputId": "74d9c274-f325-48ce-8687-a7232a83e748"
      },
      "source": [
        "from google.colab import files\r\n",
        "uploaded = files.upload()\r\n",
        "uploaded1 = files.upload()\r\n",
        "uploaded2 = files.upload()"
      ],
      "execution_count": null,
      "outputs": [
        {
          "output_type": "display_data",
          "data": {
            "text/html": [
              "\n",
              "     <input type=\"file\" id=\"files-9cd0e6cb-ede3-4ccd-a695-681921661fc6\" name=\"files[]\" multiple disabled\n",
              "        style=\"border:none\" />\n",
              "     <output id=\"result-9cd0e6cb-ede3-4ccd-a695-681921661fc6\">\n",
              "      Upload widget is only available when the cell has been executed in the\n",
              "      current browser session. Please rerun this cell to enable.\n",
              "      </output>\n",
              "      <script src=\"/nbextensions/google.colab/files.js\"></script> "
            ],
            "text/plain": [
              "<IPython.core.display.HTML object>"
            ]
          },
          "metadata": {
            "tags": []
          }
        },
        {
          "output_type": "stream",
          "text": [
            "Saving dict.txt to dict.txt\n"
          ],
          "name": "stdout"
        },
        {
          "output_type": "display_data",
          "data": {
            "text/html": [
              "\n",
              "     <input type=\"file\" id=\"files-0d207b77-b0af-4c9e-86e8-36cf200e87df\" name=\"files[]\" multiple disabled\n",
              "        style=\"border:none\" />\n",
              "     <output id=\"result-0d207b77-b0af-4c9e-86e8-36cf200e87df\">\n",
              "      Upload widget is only available when the cell has been executed in the\n",
              "      current browser session. Please rerun this cell to enable.\n",
              "      </output>\n",
              "      <script src=\"/nbextensions/google.colab/files.js\"></script> "
            ],
            "text/plain": [
              "<IPython.core.display.HTML object>"
            ]
          },
          "metadata": {
            "tags": []
          }
        },
        {
          "output_type": "stream",
          "text": [
            "Saving sciryl.csv to sciryl.csv\n"
          ],
          "name": "stdout"
        },
        {
          "output_type": "display_data",
          "data": {
            "text/html": [
              "\n",
              "     <input type=\"file\" id=\"files-ffdc92a7-961f-4c49-befd-c070e390c8c7\" name=\"files[]\" multiple disabled\n",
              "        style=\"border:none\" />\n",
              "     <output id=\"result-ffdc92a7-961f-4c49-befd-c070e390c8c7\">\n",
              "      Upload widget is only available when the cell has been executed in the\n",
              "      current browser session. Please rerun this cell to enable.\n",
              "      </output>\n",
              "      <script src=\"/nbextensions/google.colab/files.js\"></script> "
            ],
            "text/plain": [
              "<IPython.core.display.HTML object>"
            ]
          },
          "metadata": {
            "tags": []
          }
        }
      ]
    },
    {
      "cell_type": "markdown",
      "metadata": {
        "id": "Fbo4w7eMkiRv"
      },
      "source": [
        "##BART Part"
      ]
    },
    {
      "cell_type": "code",
      "metadata": {
        "colab": {
          "base_uri": "https://localhost:8080/"
        },
        "id": "Goj88fbbQ3Wo",
        "outputId": "7a4fe054-839b-4742-abef-5ea18f37bd0c"
      },
      "source": [
        "from google.colab import drive\n",
        "drive.mount('/content/gdrive', force_remount=False)\n",
        "root_dir = \"/content/gdrive/My Drive/\"\n",
        "base_dir = root_dir + 'BART/'"
      ],
      "execution_count": null,
      "outputs": [
        {
          "output_type": "stream",
          "text": [
            "Mounted at /content/gdrive\n"
          ],
          "name": "stdout"
        }
      ]
    },
    {
      "cell_type": "code",
      "metadata": {
        "id": "cPxWynRmeGlL"
      },
      "source": [
        "class LitModel(pl.LightningModule):\n",
        "  # Instantiate the model\n",
        "  def __init__(self, learning_rate, tokenizer, model, hparams):\n",
        "    super().__init__()\n",
        "    self.tokenizer = tokenizer\n",
        "    self.model = model\n",
        "    self.learning_rate = learning_rate\n",
        "    self.hparams = hparams\n",
        "\n",
        "    if self.hparams.freeze_encoder:\n",
        "      freeze_params(self.model.get_encoder())\n",
        "\n",
        "    if self.hparams.freeze_embeds:\n",
        "      self.freeze_embeds()\n",
        "  \n",
        "  def freeze_embeds(self):\n",
        "    ''' freeze the positional embedding parameters of the model; adapted from finetune.py '''\n",
        "    freeze_params(self.model.model.shared)\n",
        "    for d in [self.model.model.encoder, self.model.model.decoder]:\n",
        "      freeze_params(d.embed_positions)\n",
        "      freeze_params(d.embed_tokens)\n",
        "\n",
        "  # Do a forward pass through the model\n",
        "  def forward(self, input_ids, **kwargs):\n",
        "    return self.model(input_ids, **kwargs)\n",
        "  \n",
        "  def configure_optimizers(self):\n",
        "    optimizer = torch.optim.Adam(self.parameters(), lr = self.learning_rate)\n",
        "    return optimizer\n",
        "\n",
        "  def training_step(self, batch, batch_idx):\n",
        "    # Load the data into variables\n",
        "    src_ids, src_mask = batch[0], batch[1]\n",
        "    tgt_ids = batch[2]\n",
        "    # Shift the decoder tokens right (but NOT the tgt_ids)\n",
        "    decoder_input_ids = shift_tokens_right(tgt_ids, tokenizer.pad_token_id)\n",
        "\n",
        "    # Run the model and get the logits\n",
        "    outputs = self(src_ids, attention_mask=src_mask, decoder_input_ids=decoder_input_ids, use_cache=False)\n",
        "    lm_logits = outputs[0]\n",
        "    # Create the loss function\n",
        "    ce_loss_fct = torch.nn.CrossEntropyLoss(ignore_index=self.tokenizer.pad_token_id)\n",
        "    # Calculate the loss on the un-shifted tokens\n",
        "    loss = ce_loss_fct(lm_logits.view(-1, lm_logits.shape[-1]), tgt_ids.view(-1))\n",
        "    return {'loss':loss}\n",
        "\n",
        "  def validation_step(self, batch, batch_idx):\n",
        "\n",
        "    src_ids, src_mask = batch[0], batch[1]\n",
        "    tgt_ids = batch[2]\n",
        "\n",
        "    decoder_input_ids = shift_tokens_right(tgt_ids, tokenizer.pad_token_id)\n",
        "    \n",
        "    # Run the model and get the logits\n",
        "    outputs = self(src_ids, attention_mask=src_mask, decoder_input_ids=decoder_input_ids, use_cache=False)\n",
        "    lm_logits = outputs[0]\n",
        "\n",
        "    ce_loss_fct = torch.nn.CrossEntropyLoss(ignore_index=self.tokenizer.pad_token_id)\n",
        "    val_loss = ce_loss_fct(lm_logits.view(-1, lm_logits.shape[-1]), tgt_ids.view(-1))\n",
        "\n",
        "    return {'loss': val_loss}\n",
        "  \n",
        "  # Method that generates text using the BartForConditionalGeneration's generate() method\n",
        "  def generate_text(self, text, eval_beams, early_stopping = True, max_len = 40, startT = None):\n",
        "    ''' Function to generate text '''\n",
        "    if startT == None:\n",
        "      dstartT = self.tokenizer.pad_token_id\n",
        "    else:\n",
        "      dstartT = tokenizer.convert_tokens_to_ids(startT)\n",
        "    generated_ids = self.model.generate(\n",
        "        text[\"input_ids\"],\n",
        "        attention_mask=text[\"attention_mask\"],\n",
        "        use_cache=True,\n",
        "        decoder_start_token_id = dstartT,\n",
        "        num_beams= eval_beams,\n",
        "        max_length = max_len,\n",
        "        early_stopping = early_stopping\n",
        "    )\n",
        "    return [self.tokenizer.decode(w, skip_special_tokens=True, clean_up_tokenization_spaces=True) for w in generated_ids]\n",
        "\n",
        "def freeze_params(model):\n",
        "  ''' Function that takes a model as input (or part of a model) and freezes the layers for faster training\n",
        "      adapted from finetune.py '''\n",
        "  for layer in model.parameters():\n",
        "    layer.requires_grade = False\n"
      ],
      "execution_count": null,
      "outputs": []
    },
    {
      "cell_type": "code",
      "metadata": {
        "id": "3cUIEJBIjjNJ"
      },
      "source": [
        "# Create a dataloading module as per the PyTorch Lightning Docs\n",
        "class SummaryDataModule(pl.LightningDataModule):\n",
        "  def __init__(self, tokenizer, data_file, batch_size, num_examples = 20000):\n",
        "    super().__init__()\n",
        "    self.tokenizer = tokenizer\n",
        "    self.data_file = data_file\n",
        "    self.batch_size = batch_size\n",
        "    self.num_examples = num_examples\n",
        "  \n",
        "  # Loads and splits the data into training, validation and test sets with a 60/20/20 split\n",
        "  def prepare_data(self):\n",
        "    self.data = pd.read_csv(self.data_file)[:self.num_examples]\n",
        "    self.train, self.validate, self.test = np.split(self.data.sample(frac=1), [int(.6*len(self.data)), int(.8*len(self.data))])\n",
        "\n",
        "  # encode the sentences using the tokenizer  \n",
        "  def setup(self, stage):\n",
        "    self.train = encode_sentences(self.tokenizer, self.train['source'], self.train['target'])\n",
        "    self.validate = encode_sentences(self.tokenizer, self.validate['source'], self.validate['target'])\n",
        "    self.test = encode_sentences(self.tokenizer, self.test['source'], self.test['target'])\n",
        "\n",
        "  # Load the training, validation and test sets in Pytorch Dataset objects\n",
        "  def train_dataloader(self):\n",
        "    dataset = TensorDataset(self.train['input_ids'], self.train['attention_mask'], self.train['labels'])                          \n",
        "    train_data = DataLoader(dataset, sampler = RandomSampler(dataset), batch_size = self.batch_size)\n",
        "    return train_data\n",
        "\n",
        "  def val_dataloader(self):\n",
        "    dataset = TensorDataset(self.validate['input_ids'], self.validate['attention_mask'], self.validate['labels']) \n",
        "    val_data = DataLoader(dataset, batch_size = self.batch_size)                       \n",
        "    return val_data\n",
        "\n",
        "  def test_dataloader(self):\n",
        "    dataset = TensorDataset(self.test['input_ids'], self.test['attention_mask'], self.test['labels']) \n",
        "    test_data = DataLoader(dataset, batch_size = self.batch_size)                   \n",
        "    return test_data\n",
        "\n"
      ],
      "execution_count": null,
      "outputs": []
    },
    {
      "cell_type": "code",
      "metadata": {
        "id": "ibsTjaBjZ-OE"
      },
      "source": [
        "hparams = argparse.Namespace()\n",
        "\n",
        "hparams.freeze_encoder = True\n",
        "hparams.freeze_embeds = True\n",
        "hparams.eval_beams = 4"
      ],
      "execution_count": null,
      "outputs": []
    },
    {
      "cell_type": "code",
      "metadata": {
        "id": "no6DwOqaE9Jw"
      },
      "source": [
        "def shift_tokens_right(input_ids, pad_token_id):\n",
        "  \"\"\" Shift input ids one token to the right, and wrap the last non pad token (usually <eos>).\n",
        "      This is taken directly from modeling_bart.py\n",
        "  \"\"\"\n",
        "  prev_output_tokens = input_ids.clone()\n",
        "  index_of_eos = (input_ids.ne(pad_token_id).sum(dim=1) - 1).unsqueeze(-1)\n",
        "  prev_output_tokens[:, 0] = input_ids.gather(1, index_of_eos).squeeze()\n",
        "  prev_output_tokens[:, 1:] = input_ids[:, :-1]\n",
        "  return prev_output_tokens\n",
        "\n",
        "def encode_sentences(tokenizer, source_sentences, target_sentences, max_length=32, pad_to_max_length=True, return_tensors=\"pt\"):\n",
        "  ''' Function that tokenizes a sentence \n",
        "      Args: tokenizer - the BART tokenizer; source and target sentences are the source and target sentences\n",
        "      Returns: Dictionary with keys: input_ids, attention_mask, target_ids\n",
        "  '''\n",
        "\n",
        "  input_ids = []\n",
        "  attention_masks = []\n",
        "  target_ids = []\n",
        "  tokenized_sentences = {}\n",
        "\n",
        "  for sentence in source_sentences:\n",
        "    encoded_dict = tokenizer(\n",
        "          sentence,\n",
        "          max_length=max_length,\n",
        "          padding=\"max_length\" if pad_to_max_length else None,\n",
        "          truncation=True,\n",
        "          return_tensors=return_tensors,\n",
        "          add_prefix_space = True\n",
        "      )\n",
        "\n",
        "    input_ids.append(encoded_dict['input_ids'])\n",
        "    attention_masks.append(encoded_dict['attention_mask'])\n",
        "\n",
        "  input_ids = torch.cat(input_ids, dim = 0)\n",
        "  attention_masks = torch.cat(attention_masks, dim = 0)\n",
        "\n",
        "  for sentence in target_sentences:\n",
        "    encoded_dict = tokenizer(\n",
        "          sentence,\n",
        "          max_length=max_length,\n",
        "          padding=\"max_length\" if pad_to_max_length else None,\n",
        "          truncation=True,\n",
        "          return_tensors=return_tensors,\n",
        "          add_prefix_space = True\n",
        "      )\n",
        "    # Shift the target ids to the right\n",
        "    # shifted_target_ids = shift_tokens_right(encoded_dict['input_ids'], tokenizer.pad_token_id)\n",
        "    target_ids.append(encoded_dict['input_ids'])\n",
        "\n",
        "  target_ids = torch.cat(target_ids, dim = 0)\n",
        "  \n",
        "\n",
        "  batch = {\n",
        "      \"input_ids\": input_ids,\n",
        "      \"attention_mask\": attention_masks,\n",
        "      \"labels\": target_ids,\n",
        "  }\n",
        "\n",
        "  return batch\n",
        "\n",
        "\n",
        "def noise_sentence(sentence_, percent_words, replacement_token = \"<mask>\"):\n",
        "  '''\n",
        "  Function that noises a sentence by adding <mask> tokens\n",
        "  Args: sentence - the sentence to noise\n",
        "        percent_words - the percent of words to replace with <mask> tokens; the number is rounded up using math.ceil\n",
        "  Returns a noised sentence\n",
        "  '''\n",
        "  # Create a list item and copy\n",
        "  sentence_ = sentence_.split(' ')\n",
        "  sentence = sentence_.copy()\n",
        "  \n",
        "  num_words = math.ceil(len(sentence) * percent_words)\n",
        "  \n",
        "  # Create an array of tokens to sample from; don't include the last word as an option because in the case of lyrics\n",
        "  # that word is often a rhyming word and plays an important role in song construction\n",
        "  sample_tokens = set(np.arange(0, np.maximum(1, len(sentence)-1)))\n",
        "  \n",
        "  words_to_noise = random.sample(sample_tokens, num_words)\n",
        "  \n",
        "  # Swap out words, but not full stops\n",
        "  for pos in words_to_noise:\n",
        "      if sentence[pos] != '.':\n",
        "          sentence[pos] = replacement_token\n",
        "  \n",
        "  # Remove redundant spaces\n",
        "  sentence = re.sub(r' {2,5}', ' ', ' '.join(sentence))\n",
        "  \n",
        "  # Combine concurrent <mask> tokens into a single token; this just does two rounds of this; more could be done\n",
        "  sentence = re.sub(r'<mask> <mask>', \"<mask>\", sentence)\n",
        "  sentence = re.sub(r'<mask> <mask>', \"<mask>\", sentence)\n",
        "  return sentence\n",
        "  "
      ],
      "execution_count": null,
      "outputs": []
    },
    {
      "cell_type": "code",
      "metadata": {
        "id": "sAKO4lHfiJMP",
        "colab": {
          "base_uri": "https://localhost:8080/",
          "height": 212,
          "referenced_widgets": [
            "962fb6940e3848019deb7d3465b9b75c",
            "470015d913c844e494e5f0cd47dead7b",
            "e38cac63d7ab411bb82dce649c5f6116",
            "a96920d5f06e4bbfa8f2b8c017d2f4a2",
            "57310be07b84479c85a286744b7ba352",
            "cb2ff8d2a5c44736923b1b300fd2c705",
            "3747f7ebf7524c2aab2b3c620168ee1b",
            "4e97c31c7fce4b0881aa96d99f655c4c",
            "7c853fff0e3545ec8f4c3d1bc5d74c99",
            "580558ab00d748eeb6584d714cd583fc",
            "285d8dacf6c647c4a7332abb40ae252c",
            "6e4b28346fa14827ba181a2c0c926e07",
            "37ce245ebfad4d9a822af98a654fc935",
            "ba4d125497ac4d778ce104448b05e903",
            "bff59d49b83d4be3a414470d0951795d",
            "6f55429f28a24d02baf5d18ad0f3a1c3",
            "b924e5917a94497981d363c0ef7c04ef",
            "bb0004b4f1c0439a9898245f90e26af3",
            "94db9642ae1344519cf9b1647a1f1745",
            "0b18f5551c5a4cb195d11c259fea677e",
            "15d39d1254d74c15a850cbac27a512b4",
            "4d93be94833f44fea46bdb6523a44a63",
            "87e85478b4b049be8c6822b8e2970382",
            "c01ff59351374a14adfb433f29f55391",
            "3ed0ca50a42045c1b3153b16b31b5773",
            "14befd19a6b74e14884894a12314389c",
            "e6d2c3214323446c8b1248be8f2c8667",
            "f8e1be2df2d342e19f6813230544e555",
            "c4f7c12e25084b329e0cb1f0194a0590",
            "e32dabdc254f42af9fc2611bad0eafe6",
            "839afd87fa61480487216ee712b590c0",
            "6bdde04cb7374a309eb6c4c28ef9c280"
          ]
        },
        "outputId": "c12dcd5c-9ded-49e9-ce00-15d066ac26bb"
      },
      "source": [
        "# Load the model\n",
        "from transformers import BartTokenizer, BartForConditionalGeneration, AdamW, BartConfig, BartModel\n",
        "\n",
        "tokenizer = BartTokenizer.from_pretrained('facebook/bart-base', add_prefix_space=True)\n",
        "\n",
        "bart_model = BartForConditionalGeneration.from_pretrained(\n",
        "    \"facebook/bart-base\")\n"
      ],
      "execution_count": null,
      "outputs": [
        {
          "output_type": "display_data",
          "data": {
            "application/vnd.jupyter.widget-view+json": {
              "model_id": "962fb6940e3848019deb7d3465b9b75c",
              "version_minor": 0,
              "version_major": 2
            },
            "text/plain": [
              "HBox(children=(FloatProgress(value=0.0, description='Downloading', max=898823.0, style=ProgressStyle(descripti…"
            ]
          },
          "metadata": {
            "tags": []
          }
        },
        {
          "output_type": "stream",
          "text": [
            "\n"
          ],
          "name": "stdout"
        },
        {
          "output_type": "display_data",
          "data": {
            "application/vnd.jupyter.widget-view+json": {
              "model_id": "7c853fff0e3545ec8f4c3d1bc5d74c99",
              "version_minor": 0,
              "version_major": 2
            },
            "text/plain": [
              "HBox(children=(FloatProgress(value=0.0, description='Downloading', max=456318.0, style=ProgressStyle(descripti…"
            ]
          },
          "metadata": {
            "tags": []
          }
        },
        {
          "output_type": "stream",
          "text": [
            "\n"
          ],
          "name": "stdout"
        },
        {
          "output_type": "display_data",
          "data": {
            "application/vnd.jupyter.widget-view+json": {
              "model_id": "b924e5917a94497981d363c0ef7c04ef",
              "version_minor": 0,
              "version_major": 2
            },
            "text/plain": [
              "HBox(children=(FloatProgress(value=0.0, description='Downloading', max=1553.0, style=ProgressStyle(description…"
            ]
          },
          "metadata": {
            "tags": []
          }
        },
        {
          "output_type": "stream",
          "text": [
            "\n"
          ],
          "name": "stdout"
        },
        {
          "output_type": "display_data",
          "data": {
            "application/vnd.jupyter.widget-view+json": {
              "model_id": "3ed0ca50a42045c1b3153b16b31b5773",
              "version_minor": 0,
              "version_major": 2
            },
            "text/plain": [
              "HBox(children=(FloatProgress(value=0.0, description='Downloading', max=557941479.0, style=ProgressStyle(descri…"
            ]
          },
          "metadata": {
            "tags": []
          }
        },
        {
          "output_type": "stream",
          "text": [
            "\n"
          ],
          "name": "stdout"
        }
      ]
    },
    {
      "cell_type": "code",
      "metadata": {
        "id": "_h8QhLcyh9RJ"
      },
      "source": [
        "# Load the data into the model for training\n",
        "summary_data = SummaryDataModule(tokenizer, '/content/gdrive/My Drive/BART learns to rap/lyrics_simple_noised.csv',\n",
        "                                 batch_size = 16, num_examples = 140000)\n",
        "\n",
        "# Load the model from a pre-saved checkpoint; alternatively use the code below to start training from scratch\n",
        "# model = LitModel.load_from_checkpoint(base_dir + \"checkpoint_files_2/8_ep_140k_simple_0210.ckpt\",\n",
        "#                                       learning_rate = 2e-5, tokenizer = tokenizer, model = bart_model, hparams = hparams)\n",
        "\n",
        "model = LitModel(learning_rate = 2e-5, tokenizer = tokenizer, model = bart_model, hparams = hparams)"
      ],
      "execution_count": null,
      "outputs": []
    },
    {
      "cell_type": "code",
      "metadata": {
        "colab": {
          "base_uri": "https://localhost:8080/"
        },
        "id": "qAj9wgyRXbRG",
        "outputId": "e158492b-cddc-47a4-b0bb-cc657a343c60"
      },
      "source": [
        "#checkpoint = ModelCheckpoint(filepath=base_dir + 'checkpoint_files_2/')\n",
        "trainer = pl.Trainer(gpus = 1,\n",
        "                     max_epochs = 2,\n",
        "                     min_epochs = 2,\n",
        "                     auto_lr_find = False,\n",
        "                     \n",
        "                     progress_bar_refresh_rate = 500)"
      ],
      "execution_count": null,
      "outputs": [
        {
          "output_type": "stream",
          "text": [
            "GPU available: True, used: True\n",
            "TPU available: None, using: 0 TPU cores\n"
          ],
          "name": "stderr"
        }
      ]
    },
    {
      "cell_type": "code",
      "metadata": {
        "id": "iWccEjPWwhHW",
        "colab": {
          "base_uri": "https://localhost:8080/",
          "height": 266,
          "referenced_widgets": [
            "fb5c9b5af3e64e0984ded2ced7999e48",
            "05a23eab5404424f9f4b34d0563f4c3b",
            "7e63e51a7b3f48069f5b9a8c2025b309",
            "eae6e5f8dba948e5a4095da4fbfde42c",
            "209ba1f4481d4429aaeeadfde9000815",
            "a8a8c0d0137c4e77b9439082bf6e4974",
            "2967b4b7c5fb488fa528c7700c08cac9",
            "7012e989330b40e49b5feb354808dd03",
            "b8fe57f80624454d989a6f83a1f955d5",
            "8ba8cdab7d534c178bcf962aff78824f",
            "5dbe531efeb6490baa6ceaea38f7f07c",
            "9bda18acb04f4c448305f8bb1ef4742f",
            "4044cefda37f4c6fb32f76a88d60e5db",
            "cff8341dee4b4b11948dfb1f2ec88737",
            "f3822d0dedab438fa287a7ebb74c6eb7",
            "e566e273d32e404f8d9ccadfd9a54d90",
            "9c289add5e184db087522dd815aa860a",
            "12de214ff399410e890435c656a928aa",
            "4457e9f0e55141b4b38c2a085f4565b7",
            "a7a7cee09590498eb5cc179ffe92aeed",
            "90c358ccb5d8463c9971599e92422f87",
            "41d948ba96134d66be1c45e38f91e4a8",
            "2760d99157544101b6f5bdd472f054ee",
            "fa8b1a881bb04637a99bbb458d3961d6",
            "0b6c799c5dc9430e9c8f919e2a7deabe",
            "601190004cd94642a2882630e4b5abf3",
            "7915387056544d4d8ee1edd534ea80de",
            "3a5eea0c37d24ca79f2539087631ac65",
            "42020a6001d546f98e900ad525554305",
            "4443667565034106bfa794b291b6ad90",
            "912a4d6e90d948eeab754539e31b2998",
            "91d3dd89f667431b9f13e2bdd0b97540"
          ]
        },
        "outputId": "e2dda9a9-7b92-42d4-f5ef-2fd8a22f5510"
      },
      "source": [
        "# Fit the instantiated model to the data\n",
        "trainer.fit(model, summary_data)"
      ],
      "execution_count": null,
      "outputs": [
        {
          "output_type": "stream",
          "text": [
            "\n",
            "  | Name  | Type                         | Params\n",
            "-------------------------------------------------------\n",
            "0 | model | BartForConditionalGeneration | 139 M \n",
            "-------------------------------------------------------\n",
            "139 M     Trainable params\n",
            "0         Non-trainable params\n",
            "139 M     Total params\n",
            "557.682   Total estimated model params size (MB)\n"
          ],
          "name": "stderr"
        },
        {
          "output_type": "display_data",
          "data": {
            "application/vnd.jupyter.widget-view+json": {
              "model_id": "fb5c9b5af3e64e0984ded2ced7999e48",
              "version_minor": 0,
              "version_major": 2
            },
            "text/plain": [
              "HBox(children=(FloatProgress(value=1.0, bar_style='info', description='Validation sanity check', layout=Layout…"
            ]
          },
          "metadata": {
            "tags": []
          }
        },
        {
          "output_type": "stream",
          "text": [
            "\r"
          ],
          "name": "stdout"
        },
        {
          "output_type": "display_data",
          "data": {
            "application/vnd.jupyter.widget-view+json": {
              "model_id": "b8fe57f80624454d989a6f83a1f955d5",
              "version_minor": 0,
              "version_major": 2
            },
            "text/plain": [
              "HBox(children=(FloatProgress(value=1.0, bar_style='info', description='Training', layout=Layout(flex='2'), max…"
            ]
          },
          "metadata": {
            "tags": []
          }
        },
        {
          "output_type": "display_data",
          "data": {
            "application/vnd.jupyter.widget-view+json": {
              "model_id": "9c289add5e184db087522dd815aa860a",
              "version_minor": 0,
              "version_major": 2
            },
            "text/plain": [
              "HBox(children=(FloatProgress(value=1.0, bar_style='info', description='Validating', layout=Layout(flex='2'), m…"
            ]
          },
          "metadata": {
            "tags": []
          }
        },
        {
          "output_type": "display_data",
          "data": {
            "application/vnd.jupyter.widget-view+json": {
              "model_id": "0b6c799c5dc9430e9c8f919e2a7deabe",
              "version_minor": 0,
              "version_major": 2
            },
            "text/plain": [
              "HBox(children=(FloatProgress(value=1.0, bar_style='info', description='Validating', layout=Layout(flex='2'), m…"
            ]
          },
          "metadata": {
            "tags": []
          }
        },
        {
          "output_type": "stream",
          "text": [
            "\n"
          ],
          "name": "stdout"
        },
        {
          "output_type": "execute_result",
          "data": {
            "text/plain": [
              "1"
            ]
          },
          "metadata": {
            "tags": []
          },
          "execution_count": 12
        }
      ]
    },
    {
      "cell_type": "code",
      "metadata": {
        "id": "xj6WYHbFO_9V"
      },
      "source": [
        "def generate_lyrics(seed_line, num_lines, model_, startW, noise_percent = 0.25, multiple_lines = False, max_line_history = 3):\n",
        "  ''' Function that generates lyrics based on previously generated lyrics \n",
        "      Args: seed_line - a line to start off the machine\n",
        "            num_lines - the number of lines to generate\n",
        "            model_ - the model used to generate the text\n",
        "            multiple_lines - whether the model generates based on multiple previous lines or just the past line\n",
        "            max_line_history - the maximum number of previous lines used in the current input\n",
        "      Returns a list with num_lines of rap lines\n",
        "  '''\n",
        "  # Put the model on eval mode\n",
        "  model_.to(torch.device('cpu'))\n",
        "  model_.eval()\n",
        "  lyrics = []\n",
        "  lyrics.append(seed_line)\n",
        "  prompt_line_tokens = tokenizer(noise_sentence(seed_line, 0.2), max_length = 32, return_tensors = \"pt\", truncation = True)\n",
        "  # Loop through the number of lines generating a new line based on the old\n",
        "\n",
        "  line = [seed_line]\n",
        "  for i in range(num_lines):\n",
        "    # Print out the new line\n",
        "    print(line[0].strip())\n",
        "    lyrics.append(line[0])\n",
        "    line = model.generate_text(prompt_line_tokens, eval_beams = 4, startT = startW)\n",
        "    # This deals with an artefact in the training data that I had an issue cleaning\n",
        "    if line[0].find(\":\") != -1:\n",
        "      line[0] = re.sub(r'[A-Z]+: ', '', line[0])\n",
        "    # This allows the model to generate a new line conditioned on more than one line\n",
        "    if multiple_lines:\n",
        "      start_line = np.maximum(0, i - max_line_history)\n",
        "      end_line = i\n",
        "      prompt_line = ' '.join(lyrics[start_line:end_line]) # Going to end_line is fine because it is non-inclusive\n",
        "    else:\n",
        "      prompt_line = lyrics[i]\n",
        "    prompt_line_tokens = tokenizer(noise_sentence(prompt_line, noise_percent), max_length = 32, return_tensors = \"pt\", truncation = True)\n",
        "\n",
        "  return lyrics"
      ],
      "execution_count": null,
      "outputs": []
    },
    {
      "cell_type": "markdown",
      "metadata": {
        "id": "ooqo4fVQ2zWV"
      },
      "source": [
        "# LSTM\n"
      ]
    },
    {
      "cell_type": "code",
      "metadata": {
        "id": "CcvLaLwLgYpg"
      },
      "source": [
        "BATCH_SIZE = 32\n",
        "\n",
        "SUBSET = 1000\n",
        "MIN_WORD_FREQUENCY = 10\n",
        "SEQUENCE_LEN = 5\n",
        "EPOCH = 15"
      ],
      "execution_count": null,
      "outputs": []
    },
    {
      "cell_type": "code",
      "metadata": {
        "id": "o5vtDmxtBwXL"
      },
      "source": [
        "from pydrive.auth import GoogleAuth\n",
        "from pydrive.drive import GoogleDrive\n",
        "from google.colab import auth\n",
        "from oauth2client.client import GoogleCredentials\n",
        "\n",
        "auth.authenticate_user()\n",
        "gauth = GoogleAuth()\n",
        "gauth.credentials = GoogleCredentials.get_application_default()\n",
        "drive = GoogleDrive(gauth)"
      ],
      "execution_count": null,
      "outputs": []
    },
    {
      "cell_type": "code",
      "metadata": {
        "colab": {
          "resources": {
            "http://localhost:8080/nbextensions/google.colab/files.js": {
              "data": "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",
              "ok": true,
              "headers": [
                [
                  "content-type",
                  "application/javascript"
                ]
              ],
              "status": 200,
              "status_text": ""
            }
          },
          "base_uri": "https://localhost:8080/",
          "height": 76
        },
        "id": "agYtFtLoojhU",
        "outputId": "dcd2c8f6-4dd7-4daf-e601-896696fea418"
      },
      "source": [
        "from google.colab import files\r\n",
        "\r\n",
        "uploaded = files.upload()"
      ],
      "execution_count": null,
      "outputs": [
        {
          "output_type": "display_data",
          "data": {
            "text/html": [
              "\n",
              "     <input type=\"file\" id=\"files-240260ba-ffb1-47cf-8c12-8bf29298f67d\" name=\"files[]\" multiple disabled\n",
              "        style=\"border:none\" />\n",
              "     <output id=\"result-240260ba-ffb1-47cf-8c12-8bf29298f67d\">\n",
              "      Upload widget is only available when the cell has been executed in the\n",
              "      current browser session. Please rerun this cell to enable.\n",
              "      </output>\n",
              "      <script src=\"/nbextensions/google.colab/files.js\"></script> "
            ],
            "text/plain": [
              "<IPython.core.display.HTML object>"
            ]
          },
          "metadata": {
            "tags": []
          }
        },
        {
          "output_type": "stream",
          "text": [
            "Saving fusion.txt to fusion.txt\n"
          ],
          "name": "stdout"
        }
      ]
    },
    {
      "cell_type": "code",
      "metadata": {
        "id": "jkEfEIikB2TI"
      },
      "source": [
        "#songdata_UTF8_clean.txt - there were some qoutes in the file that were removed (also double space replaced by one) \n",
        "# then the lyric column were extracted and converted to the utf8 format\n",
        "\n",
        "#open file and save it in to list \n",
        "with open('fusion.txt', 'r') as content_file:\n",
        "    content = content_file.read()\n",
        "songlyrics = content.split(\"\\\"\")\n",
        "\n",
        "\n",
        "#cleaning - removing empty elements from the list\n",
        "clean_songlyrics = []\n",
        "for item in songlyrics:\n",
        "  if len(item)>1:\n",
        "    clean_songlyrics.append(item)\n",
        "# print(clean_songlyrics[0])\n",
        "\n",
        "\n",
        "#make a list(lyrics) of list(sentences)\n",
        "lyrics = []\n",
        "for l in clean_songlyrics:\n",
        "#   l = l.replace(\"\\n\", \"\")\n",
        "#   l = l.replace(\"\\n\", \"\")\n",
        "  sentences = l.split(\"\\n\")\n",
        "  lyrics.append(sentences)\n",
        "  \n",
        "\n",
        "\n",
        "#cleaning - removing empty elements from sentences of each lyric\n",
        "    \n",
        "lyrics = [[s for s in l if len(s)>1] for l in lyrics ]"
      ],
      "execution_count": null,
      "outputs": []
    },
    {
      "cell_type": "code",
      "metadata": {
        "colab": {
          "base_uri": "https://localhost:8080/"
        },
        "id": "OAzr5CCJCAus",
        "outputId": "b66cfad4-e87f-436c-cda5-9da87edf454d"
      },
      "source": [
        "#cleaning - removing brackets from the main list (lyrics)\n",
        "import re\n",
        "regex = re.compile(\".*?\\[(.*?)\\]\")\n",
        "\n",
        "bracket = []\n",
        "for i in range(len(lyrics)):\n",
        "\n",
        "  for j in range(len(lyrics[i])):\n",
        "\n",
        "    result = re.findall(regex, lyrics[i][j])\n",
        "\n",
        "    for item in result:\n",
        "\n",
        "      #keep them in the bracket list\n",
        "      if item not in bracket:\n",
        "        bracket.append(item)\n",
        "\n",
        "      #remove the brackets from the sentences\n",
        "      lyrics[i][j] = lyrics[i][j].replace(\"[\"+item+\"]\", \"\")\n",
        "    \n",
        "    \n",
        "  #cleaning- remove empty elements (sentences) appeared on each lyric\n",
        "  lyrics[i] = [s for s in lyrics[i] if len(s)>1]"
      ],
      "execution_count": null,
      "outputs": [
        {
          "output_type": "stream",
          "text": [
            "['suck my cock']\n"
          ],
          "name": "stdout"
        }
      ]
    },
    {
      "cell_type": "code",
      "metadata": {
        "colab": {
          "base_uri": "https://localhost:8080/"
        },
        "id": "yt6Ow-MeCDxm",
        "outputId": "5ca60128-0977-4b3f-815c-6061a2c6c88d"
      },
      "source": [
        "print(len(lyrics))\n",
        "lyrics = lyrics[0:SUBSET]\n",
        "print(len(lyrics))"
      ],
      "execution_count": null,
      "outputs": [
        {
          "output_type": "stream",
          "text": [
            "6251\n",
            "1000\n"
          ],
          "name": "stdout"
        }
      ]
    },
    {
      "cell_type": "code",
      "metadata": {
        "colab": {
          "base_uri": "https://localhost:8080/"
        },
        "id": "IA-Y4rbVYv9t",
        "outputId": "430402c7-1e01-4695-f38d-cba16247fefa"
      },
      "source": [
        "for i in range(len(lyrics)):\n",
        "  for j in range(len(lyrics[i])):\n",
        "    lyrics[i][j] += \"\\n\"\n",
        "    \n",
        "print(lyrics[0])"
      ],
      "execution_count": null,
      "outputs": [
        {
          "output_type": "stream",
          "text": [
            "['Chickens in the sink\\n', 'Crack on the stove\\n', 'Triple beam for the weight\\n', 'Cut the middle man tryna get 8 white bitches\\n', 'Snorting off the plate coke from Colombia\\n', 'Riding round in the Benz looking like a trap star\\n', 'Flipping raw day and night\\n', \"Tryna get my money right naw I ain't living rite\\n\", \"Fucking bitches all night kick 'em out the next day\\n\", 'Everyday is pay day\\n', 'Hit me with a half bring it back in two days\\n', 'Living in Cali by the ocean\\n', 'Condo got em open\\n', 'Long dick stroke em\\n', \"I send 'em to the husband he over there fussing\\n\", \"I'm over here fucking no loving\\n\", \"Puffing on heavenly rock star 70's\\n\", 'Slim pants ripped jeans Jeremy Scott wings\\n', 'Fucking heavily counting up cream\\n', 'Rolling on beans disobedient with trees\\n', 'Tatted from neck to ear bitches they want to stare\\n', 'Macking with hoes as I pose\\n', 'Hand in my draws henny out my pores\\n', 'As I pour hit the blunt too much you on the dash as I pass\\n', '(Hook)\\n', 'Coke and White Bitches\\n', 'Coke and White Bitches\\n', 'Just Coke and White Bitches\\n', 'Coke and White Bitches\\n', 'Coke and White Bitches\\n', 'Just Coke and White Bitches\\n', 'Coke and White Bitches\\n', 'Coke and White Bitches\\n', 'Different money different days\\n', 'On my hip I got that cake\\n', \"Close your mouth if it ain't about 'cane\\n\", 'Over the stove mixing\\n', 'Hitting swishers\\n', 'Red paint tripping, blue seat sack tripping\\n', 'Coke I hold tripping\\n', \"I'm pimping hat tilting\\n\", 'No limping fuck sipping\\n', \"I'm shitting on you niggas\\n\", 'Seven figures go figure\\n', 'Surrounded by white bitches\\n', 'Slipping off wedding rings\\n', 'She do her one two thing\\n', 'Cali with the pool in the back\\n', 'Got these niggas backs\\n', 'Meet me by the border ounce to a key\\n', 'Flying over seas\\n', 'Korean imported extorted these niggas\\n', 'Smoking out the bong\\n', 'Lighting up the spliff Basel on my wrist\\n', 'Bought me a six pop the willy on that bitch\\n', 'She snorting off my dick put her on the strip\\n', 'Flipping my bread triple my spread nigga bring it back\\n', 'Triple my racks bricks in my backpack\\n', 'What up to Troy Ave\\n', 'Still pouring up deuce in the triple cup\\n', 'Purple lean or that yellow tuss\\n', '(Hook)\\n', 'Do my thang let my nuts hang\\n', 'Girls come back like boomerangs\\n', 'Pretty flowers whens it spring\\n', 'But fall off when its winter time\\n', 'Sip Henny, not wine, boy get on your death rhyme\\n', 'Make a milli off one rhyme, pass the mic, ima shine\\n', 'Got my shit on rewind, cold white bitches from the show\\n', 'Mosh Pit, better watch the toes airplane on leather floors\\n', 'Tell the pilot where to go, dark tints, lay low\\n', \"Can't see my new ho, double debt like two shows\\n\", \"Fuck a nine five cop one mo'ain't fuckin' front do\\n\", 'See me in the car bitch going fast\\n', 'If you gotta shorty, then smash that\\n', 'Where the licks at? Lets hit that\\n', 'Mossberg shotty saying get back\\n', 'Everybody need handouts\\n', 'Niggas hold they fam out\\n', 'Panamera is blacked out\\n', 'Paper chase might pass out\\n', 'Niggas change my peso\\n', \"God love ya' haters\\n\", 'You niggas made me greater\\n', \"Ya'll niggas Stuck in the same place\\n\", 'Brook ass elavators, Magic Johnson scales\\n', 'Playing for the Lakers, faster than a Maverick\\n', 'Niggas hustle backwards , four five give you static\\n', \"Leave yo' body tragic\\n\", 'DJ Nick, Marino Gang\\n', 'Damn!\\n', \"Set 'dat bitch off!\\n\", 'Walk in the spot\\n', \"And I set 'dat bitch off!\\n\", 'Damn!\\n', \"Set 'dat bitch off!\\n\", 'Walk in the spot\\n', \"And I set 'dat bitch off!\\n\", 'Damn!\\n', \"Set 'dat bitch off!\\n\", 'Walk in the spot\\n', \"And I set 'dat bitch off!\\n\", '(Goddamn!)\\n', \"Set 'dat bitch off!\\n\", 'Walk in the spot\\n', \"And I set 'dat bitch off!\\n\", '(Damn!)\\n', \"Set 'dat bitch off\\n\", 'White bitch sniff coke look like Kate Moss\\n', 'Smoking on purple, Randy Moss\\n', 'Shrimp, calamari tomato sauce\\n', 'Never ever thinking of Santa Claus\\n', \"Mama workin' her ASS off\\n\", 'Put in the new product drop next for\\n', 'Like Penny Hardaway when I got the ball\\n', \"Post in the hood like I'm 8 feet tall\\n\", 'Hands on my nuts saying, \\n']\n"
          ],
          "name": "stdout"
        }
      ]
    },
    {
      "cell_type": "code",
      "metadata": {
        "colab": {
          "base_uri": "https://localhost:8080/"
        },
        "id": "XhpCi-BACHZW",
        "outputId": "ba9b0f1e-7ad0-43e3-890c-995ac7a6d44c"
      },
      "source": [
        "#model - based on this link : https://medium.com/coinmonks/word-level-lstm-text-generator-creating-automatic-song-lyrics-with-neural-networks-b8a1617104fb\n",
        "\n",
        "text_in_words = [w.lower()   for l in lyrics for s in l for w in s.split(' ') if len(w)>0]\n",
        "# print(text_in_words[0:9])\n",
        "\n",
        "\n",
        "#---------------Calculate word frequency\n",
        "\n",
        "word_freq = {}\n",
        "for word in text_in_words:\n",
        "    word_freq[word] = word_freq.get(word, 0) + 1\n",
        "    \n",
        "ignored_words = set()\n",
        "for k, v in word_freq.items():\n",
        "    if word_freq[k] < MIN_WORD_FREQUENCY:\n",
        "        ignored_words.add(k)\n",
        "        \n",
        "words = set(text_in_words)\n",
        "print('Unique words before ignoring:', len(words))\n",
        "print('Ignoring words with frequency <', MIN_WORD_FREQUENCY)\n",
        "words = sorted(set(words) - ignored_words)\n",
        "print('Unique words after ignoring:', len(words))\n",
        "\n",
        "word_indices = dict((c, i) for i, c in enumerate(words))\n",
        "indices_word = dict((i, c) for i, c in enumerate(words))"
      ],
      "execution_count": null,
      "outputs": [
        {
          "output_type": "stream",
          "text": [
            "Unique words before ignoring: 24676\n",
            "Ignoring words with frequency < 10\n",
            "Unique words after ignoring: 2173\n"
          ],
          "name": "stdout"
        }
      ]
    },
    {
      "cell_type": "code",
      "metadata": {
        "colab": {
          "base_uri": "https://localhost:8080/"
        },
        "id": "jcoP3MZfCMGd",
        "outputId": "d308a15d-3ec4-4c44-8148-39afe9d143c3"
      },
      "source": [
        "# ------------cut the text in semi-redundant sequences of SEQUENCE_LEN words\n",
        "STEP = 1\n",
        "\n",
        "sentences = []\n",
        "next_words = []\n",
        "ignored = 0\n",
        "for i in range(0, len(text_in_words) - SEQUENCE_LEN, STEP):\n",
        "    # Only add sequences where no word is in ignored_words\n",
        "    if len(set(text_in_words[i: i+SEQUENCE_LEN+1]).intersection(ignored_words)) == 0:\n",
        "        sentences.append(text_in_words[i: i + SEQUENCE_LEN])\n",
        "        next_words.append(text_in_words[i + SEQUENCE_LEN])\n",
        "    else:\n",
        "        ignored = ignored+1\n",
        "print('Ignored sequences:', ignored)\n",
        "print('Remaining sequences:', len(sentences))"
      ],
      "execution_count": null,
      "outputs": [
        {
          "output_type": "stream",
          "text": [
            "Ignored sequences: 153390\n",
            "Remaining sequences: 63048\n"
          ],
          "name": "stdout"
        }
      ]
    },
    {
      "cell_type": "code",
      "metadata": {
        "colab": {
          "base_uri": "https://localhost:8080/"
        },
        "id": "X7c0ThRvCPf_",
        "outputId": "aed726fd-05ed-4eaf-9f67-66b1626ed9a2"
      },
      "source": [
        "#-------------Shuffle and split training set\n",
        "import numpy as np\n",
        "\n",
        "def shuffle_and_split_training_set(sentences_original, next_original, percentage_test=2):\n",
        "    # shuffle at unison\n",
        "    print('Shuffling sentences')\n",
        "\n",
        "    tmp_sentences = []\n",
        "    tmp_next_word = []\n",
        "    for i in np.random.permutation(len(sentences_original)):\n",
        "        tmp_sentences.append(sentences_original[i])\n",
        "        tmp_next_word.append(next_original[i])\n",
        "\n",
        "    cut_index = int(len(sentences_original) * (1.-(percentage_test/100.)))\n",
        "    x_train, x_test = tmp_sentences[:cut_index], tmp_sentences[cut_index:]\n",
        "    y_train, y_test = tmp_next_word[:cut_index], tmp_next_word[cut_index:]\n",
        "\n",
        "    print(\"Size of training set = %d\" % len(x_train))\n",
        "    print(\"Size of test set = %d\" % len(y_test))\n",
        "    return x_train, y_train, x_test, y_test\n",
        "\n",
        "  \n",
        "sentences, next_words, sentences_test, next_words_test = shuffle_and_split_training_set(sentences, next_words)"
      ],
      "execution_count": null,
      "outputs": [
        {
          "output_type": "stream",
          "text": [
            "Shuffling sentences\n",
            "Size of training set = 61787\n",
            "Size of test set = 1261\n"
          ],
          "name": "stdout"
        }
      ]
    },
    {
      "cell_type": "code",
      "metadata": {
        "id": "wd9Ger5eCS7L"
      },
      "source": [
        "#------------Building the model\n",
        "\n",
        "from keras.models import Sequential\n",
        "from keras.layers import Dense, Dropout, Activation, LSTM, Bidirectional, Embedding, InputLayer\n",
        "\n",
        "model = Sequential()\n",
        "model.add(Embedding(input_dim=len(words), output_dim=1024))\n",
        "model.add(Bidirectional(LSTM(128)))\n",
        "model.add(Dropout(0.2))\n",
        "model.add(Dense(len(words)))\n",
        "model.add(Activation('softmax'))"
      ],
      "execution_count": null,
      "outputs": []
    },
    {
      "cell_type": "code",
      "metadata": {
        "id": "ohHaRs1mCXWP"
      },
      "source": [
        "def generator(sentence_list, next_word_list, batch_size):\n",
        "    index = 0\n",
        "    while True:\n",
        "        x = np.zeros((batch_size, SEQUENCE_LEN), dtype=np.int32)\n",
        "        y = np.zeros((batch_size), dtype=np.int32)\n",
        "        for i in range(batch_size):\n",
        "            for t, w in enumerate(sentence_list[index % len(sentence_list)]):\n",
        "                x[i, t] = word_indices[w]\n",
        "            y[i] = word_indices[next_word_list[index % len(sentence_list)]]\n",
        "            index = index + 1\n",
        "        yield x, y"
      ],
      "execution_count": null,
      "outputs": []
    },
    {
      "cell_type": "code",
      "metadata": {
        "id": "XFgyP7DuTlaa"
      },
      "source": [
        "def on_epoch_end(epoch, logs):\n",
        "    # Function invoked at end of each epoch. Prints generated text.\n",
        "    examples_file.write('\\n----- Generating text after Epoch: %d\\n' % epoch)\n",
        "\n",
        "    # Randomly pick a seed sequence\n",
        "    seed_index = np.random.randint(len(sentences+sentences_test))\n",
        "    seed = (sentences+sentences_test)[seed_index]\n",
        "\n",
        "    for diversity in [0.3, 0.4, 0.5, 0.6, 0.7]:\n",
        "        sentence = seed\n",
        "        examples_file.write('----- Diversity:' + str(diversity) + '\\n')\n",
        "        examples_file.write('----- Generating with seed:\\n\"' + ' '.join(sentence) + '\"\\n')\n",
        "        examples_file.write(' '.join(sentence))\n",
        "\n",
        "        for i in range(50):\n",
        "            x_pred = np.zeros((1, SEQUENCE_LEN, len(words)))\n",
        "            for t, word in enumerate(sentence):\n",
        "                x_pred[0, t, word_indices[word]] = 1.\n",
        "\n",
        "            preds = model.predict(x_pred, verbose=0)[0]\n",
        "            next_index = sample(preds, diversity)\n",
        "            next_word = indices_word[next_index]\n",
        "\n",
        "            sentence = sentence[1:]\n",
        "            sentence.append(next_word)\n",
        "\n",
        "            examples_file.write(\" \"+next_word)\n",
        "        examples_file.write('\\n')\n",
        "    examples_file.write('='*80 + '\\n')\n",
        "    examples_file.flush()"
      ],
      "execution_count": null,
      "outputs": []
    },
    {
      "cell_type": "code",
      "metadata": {
        "colab": {
          "base_uri": "https://localhost:8080/"
        },
        "id": "G8ZMiGXECaBC",
        "outputId": "a5f3f0dc-5837-42f7-b610-910efb2cafb0"
      },
      "source": [
        "#-----------------training model\n",
        "\n",
        "model.compile(loss='sparse_categorical_crossentropy', optimizer=\"adam\", metrics=['accuracy'])\n",
        "\n",
        "\n",
        "from keras.callbacks import LambdaCallback, ModelCheckpoint, EarlyStopping\n",
        "file_path = \"./checkpoints/LSTM_LYRICS-epoch{epoch:03d}-words%d-sequence%d-minfreq%d-\" \\\n",
        "                \"loss{loss:.4f}-acc{acc:.4f}-val_loss{val_loss:.4f}-val_acc{val_acc:.4f}\" % \\\n",
        "                (len(words), SEQUENCE_LEN, MIN_WORD_FREQUENCY)\n",
        "\n",
        "checkpoint = ModelCheckpoint(file_path, monitor='val_acc', save_best_only=True)\n",
        "print_callback = LambdaCallback(on_epoch_end=on_epoch_end)\n",
        "early_stopping = EarlyStopping(monitor='val_acc', patience=5)\n",
        "callbacks_list = [checkpoint, print_callback, early_stopping]\n",
        "\n",
        "examples_file = open(\"examples.txt\", \"w\")\n",
        "\n",
        "\n",
        "\n",
        "# BATCH_SIZE = 32\n",
        "model.fit_generator(generator(sentences, next_words, BATCH_SIZE),\n",
        "                        steps_per_epoch=int(len(sentences)/BATCH_SIZE) + 1,\n",
        "                        epochs=EPOCH, #100\n",
        "                        validation_data=generator(sentences_test, next_words_test, BATCH_SIZE),\n",
        "                        validation_steps=int(len(sentences_test)/BATCH_SIZE) + 1)"
      ],
      "execution_count": null,
      "outputs": [
        {
          "output_type": "stream",
          "text": [
            "/usr/local/lib/python3.7/dist-packages/tensorflow/python/keras/engine/training.py:1844: UserWarning: `Model.fit_generator` is deprecated and will be removed in a future version. Please use `Model.fit`, which supports generators.\n",
            "  warnings.warn('`Model.fit_generator` is deprecated and '\n"
          ],
          "name": "stderr"
        },
        {
          "output_type": "stream",
          "text": [
            "Epoch 1/15\n",
            "1931/1931 [==============================] - 210s 107ms/step - loss: 6.0472 - accuracy: 0.0736 - val_loss: 4.5927 - val_accuracy: 0.2211\n",
            "Epoch 2/15\n",
            "1931/1931 [==============================] - 201s 104ms/step - loss: 4.3548 - accuracy: 0.2449 - val_loss: 4.0154 - val_accuracy: 0.3125\n",
            "Epoch 3/15\n",
            "1931/1931 [==============================] - 200s 104ms/step - loss: 3.5422 - accuracy: 0.3480 - val_loss: 3.7744 - val_accuracy: 0.3656\n",
            "Epoch 4/15\n",
            "1931/1931 [==============================] - 208s 108ms/step - loss: 2.9662 - accuracy: 0.4174 - val_loss: 3.7090 - val_accuracy: 0.3906\n",
            "Epoch 5/15\n",
            "1931/1931 [==============================] - 207s 107ms/step - loss: 2.4910 - accuracy: 0.4808 - val_loss: 3.6965 - val_accuracy: 0.4055\n",
            "Epoch 6/15\n",
            "1931/1931 [==============================] - 206s 107ms/step - loss: 2.0766 - accuracy: 0.5477 - val_loss: 3.7155 - val_accuracy: 0.4141\n",
            "Epoch 7/15\n",
            "1931/1931 [==============================] - 205s 106ms/step - loss: 1.7327 - accuracy: 0.6109 - val_loss: 3.8190 - val_accuracy: 0.4187\n",
            "Epoch 8/15\n",
            "1931/1931 [==============================] - 199s 103ms/step - loss: 1.4384 - accuracy: 0.6687 - val_loss: 3.8756 - val_accuracy: 0.4195\n",
            "Epoch 9/15\n",
            "1931/1931 [==============================] - 200s 104ms/step - loss: 1.1950 - accuracy: 0.7217 - val_loss: 3.9633 - val_accuracy: 0.4258\n",
            "Epoch 10/15\n",
            "1931/1931 [==============================] - 199s 103ms/step - loss: 1.0031 - accuracy: 0.7643 - val_loss: 4.0881 - val_accuracy: 0.4234\n",
            "Epoch 11/15\n",
            "1931/1931 [==============================] - 201s 104ms/step - loss: 0.8521 - accuracy: 0.7982 - val_loss: 4.1868 - val_accuracy: 0.4266\n",
            "Epoch 12/15\n",
            "1931/1931 [==============================] - 202s 105ms/step - loss: 0.7292 - accuracy: 0.8262 - val_loss: 4.2712 - val_accuracy: 0.4336\n",
            "Epoch 13/15\n",
            "1931/1931 [==============================] - 203s 105ms/step - loss: 0.6447 - accuracy: 0.8435 - val_loss: 4.3764 - val_accuracy: 0.4344\n",
            "Epoch 14/15\n",
            "1931/1931 [==============================] - 203s 105ms/step - loss: 0.5777 - accuracy: 0.8593 - val_loss: 4.4373 - val_accuracy: 0.4313\n",
            "Epoch 15/15\n",
            "1931/1931 [==============================] - 203s 105ms/step - loss: 0.5331 - accuracy: 0.8674 - val_loss: 4.5575 - val_accuracy: 0.4383\n"
          ],
          "name": "stdout"
        },
        {
          "output_type": "execute_result",
          "data": {
            "text/plain": [
              "<tensorflow.python.keras.callbacks.History at 0x7f64500e9b10>"
            ]
          },
          "metadata": {
            "tags": []
          },
          "execution_count": 17
        }
      ]
    },
    {
      "cell_type": "code",
      "metadata": {
        "id": "sPt9k9k0Tphf"
      },
      "source": [
        "def sample(preds, temperature=1.0):\n",
        "    # helper function to sample an index from a probability array\n",
        "    preds = np.asarray(preds).astype('float64')\n",
        "    preds = np.log(preds) / temperature\n",
        "    exp_preds = np.exp(preds)\n",
        "    preds = exp_preds / np.sum(exp_preds)\n",
        "    probas = np.random.multinomial(1, preds, 1)\n",
        "    return np.argmax(probas)"
      ],
      "execution_count": null,
      "outputs": []
    },
    {
      "cell_type": "code",
      "metadata": {
        "colab": {
          "base_uri": "https://localhost:8080/"
        },
        "id": "GiLqIC0HTyDp",
        "outputId": "80362549-28b7-4b79-e172-6b61058a4f0e"
      },
      "source": [
        "sentence = ['i', 'like', 'you', 'much', 'more']\n",
        "\n",
        "x_pred = np.zeros((SEQUENCE_LEN, len(words)))\n",
        "# print(word_indices['i'])\n",
        "for t, word in enumerate(sentence):\n",
        "#   print(\"here\")\n",
        "  x_pred[t, word_indices[word]] = 1.\n",
        "  \n",
        "\n",
        "\n",
        "diversity  = 10\n",
        "preds = model.predict(x_pred, verbose=0)[0]\n",
        "next_index = sample(preds, diversity)\n",
        "next_word = indices_word[next_index]\n",
        "print(next_word)"
      ],
      "execution_count": null,
      "outputs": [
        {
          "output_type": "stream",
          "text": [
            "some)\n",
            "\n"
          ],
          "name": "stdout"
        }
      ]
    },
    {
      "cell_type": "code",
      "metadata": {
        "colab": {
          "base_uri": "https://localhost:8080/"
        },
        "id": "98lf3jSDT2tX",
        "outputId": "46319d2a-2e59-4e29-ca22-9fcfca73764d"
      },
      "source": [
        "seed =  ['you', 'and', 'me', 'forever']\n",
        "sentence =  ['I']\n",
        "  \n",
        "for i in range(30):\n",
        "  x_pred = np.zeros((SEQUENCE_LEN, len(words)))\n",
        "  for t, word in enumerate(seed):\n",
        "    x_pred[t, word_indices[word]] = 1.\n",
        "  preds = model.predict(x_pred, verbose=0)[0]\n",
        "  next_index = sample(preds, diversity)\n",
        "  next_word = indices_word[next_index]\n",
        "  sentence.append(next_word)\n",
        "  seed = seed[1:]\n",
        "  seed.append(next_word)\n",
        "  if \"\\n\" in next_word:\n",
        "    break\n",
        "\n",
        "print(sentence)"
      ],
      "execution_count": null,
      "outputs": [
        {
          "output_type": "stream",
          "text": [
            "sent--['i', 'like', 'you', 'much', 'more', 'fucking']\n",
            "sent--['i', 'like', 'you', 'much', 'more', 'fucking', 'hot']\n",
            "sent--['i', 'like', 'you', 'much', 'more', 'fucking', 'hot', 'that’s']\n",
            "sent--['i', 'like', 'you', 'much', 'more', 'fucking', 'hot', 'that’s', 'with']\n",
            "sent--['i', 'like', 'you', 'much', 'more', 'fucking', 'hot', 'that’s', 'with', 'part']\n",
            "sent--['i', 'like', 'you', 'much', 'more', 'fucking', 'hot', 'that’s', 'with', 'part', 'so\\n']\n",
            "sent--['i', 'like', 'you', 'much', 'more', 'fucking', 'hot', 'that’s', 'with', 'part', 'so\\n', 'juice\\n']\n",
            "sent--['i', 'like', 'you', 'much', 'more', 'fucking', 'hot', 'that’s', 'with', 'part', 'so\\n', 'juice\\n', 'yes']\n",
            "sent--['i', 'like', 'you', 'much', 'more', 'fucking', 'hot', 'that’s', 'with', 'part', 'so\\n', 'juice\\n', 'yes', 'shooting']\n",
            "sent--['i', 'like', 'you', 'much', 'more', 'fucking', 'hot', 'that’s', 'with', 'part', 'so\\n', 'juice\\n', 'yes', 'shooting', 'do\\n']\n",
            "sent--['i', 'like', 'you', 'much', 'more', 'fucking', 'hot', 'that’s', 'with', 'part', 'so\\n', 'juice\\n', 'yes', 'shooting', 'do\\n', 'place']\n",
            "sent--['i', 'like', 'you', 'much', 'more', 'fucking', 'hot', 'that’s', 'with', 'part', 'so\\n', 'juice\\n', 'yes', 'shooting', 'do\\n', 'place', 'part']\n",
            "sent--['i', 'like', 'you', 'much', 'more', 'fucking', 'hot', 'that’s', 'with', 'part', 'so\\n', 'juice\\n', 'yes', 'shooting', 'do\\n', 'place', 'part', 'are']\n",
            "sent--['i', 'like', 'you', 'much', 'more', 'fucking', 'hot', 'that’s', 'with', 'part', 'so\\n', 'juice\\n', 'yes', 'shooting', 'do\\n', 'place', 'part', 'are', '(are']\n",
            "sent--['i', 'like', 'you', 'much', 'more', 'fucking', 'hot', 'that’s', 'with', 'part', 'so\\n', 'juice\\n', 'yes', 'shooting', 'do\\n', 'place', 'part', 'are', '(are', 'crew\\n']\n",
            "sent--['i', 'like', 'you', 'much', 'more', 'fucking', 'hot', 'that’s', 'with', 'part', 'so\\n', 'juice\\n', 'yes', 'shooting', 'do\\n', 'place', 'part', 'are', '(are', 'crew\\n', 'word']\n",
            "sent--['i', 'like', 'you', 'much', 'more', 'fucking', 'hot', 'that’s', 'with', 'part', 'so\\n', 'juice\\n', 'yes', 'shooting', 'do\\n', 'place', 'part', 'are', '(are', 'crew\\n', 'word', 'worried']\n",
            "sent--['i', 'like', 'you', 'much', 'more', 'fucking', 'hot', 'that’s', 'with', 'part', 'so\\n', 'juice\\n', 'yes', 'shooting', 'do\\n', 'place', 'part', 'are', '(are', 'crew\\n', 'word', 'worried', 'hey,']\n",
            "sent--['i', 'like', 'you', 'much', 'more', 'fucking', 'hot', 'that’s', 'with', 'part', 'so\\n', 'juice\\n', 'yes', 'shooting', 'do\\n', 'place', 'part', 'are', '(are', 'crew\\n', 'word', 'worried', 'hey,', 'fast']\n",
            "sent--['i', 'like', 'you', 'much', 'more', 'fucking', 'hot', 'that’s', 'with', 'part', 'so\\n', 'juice\\n', 'yes', 'shooting', 'do\\n', 'place', 'part', 'are', '(are', 'crew\\n', 'word', 'worried', 'hey,', 'fast', 'change']\n",
            "sent--['i', 'like', 'you', 'much', 'more', 'fucking', 'hot', 'that’s', 'with', 'part', 'so\\n', 'juice\\n', 'yes', 'shooting', 'do\\n', 'place', 'part', 'are', '(are', 'crew\\n', 'word', 'worried', 'hey,', 'fast', 'change', 'grew']\n",
            "sent--['i', 'like', 'you', 'much', 'more', 'fucking', 'hot', 'that’s', 'with', 'part', 'so\\n', 'juice\\n', 'yes', 'shooting', 'do\\n', 'place', 'part', 'are', '(are', 'crew\\n', 'word', 'worried', 'hey,', 'fast', 'change', 'grew', 'bus\\n']\n",
            "sent--['i', 'like', 'you', 'much', 'more', 'fucking', 'hot', 'that’s', 'with', 'part', 'so\\n', 'juice\\n', 'yes', 'shooting', 'do\\n', 'place', 'part', 'are', '(are', 'crew\\n', 'word', 'worried', 'hey,', 'fast', 'change', 'grew', 'bus\\n', 'where,']\n",
            "sent--['i', 'like', 'you', 'much', 'more', 'fucking', 'hot', 'that’s', 'with', 'part', 'so\\n', 'juice\\n', 'yes', 'shooting', 'do\\n', 'place', 'part', 'are', '(are', 'crew\\n', 'word', 'worried', 'hey,', 'fast', 'change', 'grew', 'bus\\n', 'where,', 'eyes\\n']\n",
            "sent--['i', 'like', 'you', 'much', 'more', 'fucking', 'hot', 'that’s', 'with', 'part', 'so\\n', 'juice\\n', 'yes', 'shooting', 'do\\n', 'place', 'part', 'are', '(are', 'crew\\n', 'word', 'worried', 'hey,', 'fast', 'change', 'grew', 'bus\\n', 'where,', 'eyes\\n', 'give']\n",
            "sent--['i', 'like', 'you', 'much', 'more', 'fucking', 'hot', 'that’s', 'with', 'part', 'so\\n', 'juice\\n', 'yes', 'shooting', 'do\\n', 'place', 'part', 'are', '(are', 'crew\\n', 'word', 'worried', 'hey,', 'fast', 'change', 'grew', 'bus\\n', 'where,', 'eyes\\n', 'give', 'hood']\n",
            "sent--['i', 'like', 'you', 'much', 'more', 'fucking', 'hot', 'that’s', 'with', 'part', 'so\\n', 'juice\\n', 'yes', 'shooting', 'do\\n', 'place', 'part', 'are', '(are', 'crew\\n', 'word', 'worried', 'hey,', 'fast', 'change', 'grew', 'bus\\n', 'where,', 'eyes\\n', 'give', 'hood', 'cost']\n",
            "sent--['i', 'like', 'you', 'much', 'more', 'fucking', 'hot', 'that’s', 'with', 'part', 'so\\n', 'juice\\n', 'yes', 'shooting', 'do\\n', 'place', 'part', 'are', '(are', 'crew\\n', 'word', 'worried', 'hey,', 'fast', 'change', 'grew', 'bus\\n', 'where,', 'eyes\\n', 'give', 'hood', 'cost', 'strange']\n",
            "sent--['i', 'like', 'you', 'much', 'more', 'fucking', 'hot', 'that’s', 'with', 'part', 'so\\n', 'juice\\n', 'yes', 'shooting', 'do\\n', 'place', 'part', 'are', '(are', 'crew\\n', 'word', 'worried', 'hey,', 'fast', 'change', 'grew', 'bus\\n', 'where,', 'eyes\\n', 'give', 'hood', 'cost', 'strange', 'not\\n']\n",
            "sent--['i', 'like', 'you', 'much', 'more', 'fucking', 'hot', 'that’s', 'with', 'part', 'so\\n', 'juice\\n', 'yes', 'shooting', 'do\\n', 'place', 'part', 'are', '(are', 'crew\\n', 'word', 'worried', 'hey,', 'fast', 'change', 'grew', 'bus\\n', 'where,', 'eyes\\n', 'give', 'hood', 'cost', 'strange', 'not\\n', 'baddest\\n']\n",
            "sent--['i', 'like', 'you', 'much', 'more', 'fucking', 'hot', 'that’s', 'with', 'part', 'so\\n', 'juice\\n', 'yes', 'shooting', 'do\\n', 'place', 'part', 'are', '(are', 'crew\\n', 'word', 'worried', 'hey,', 'fast', 'change', 'grew', 'bus\\n', 'where,', 'eyes\\n', 'give', 'hood', 'cost', 'strange', 'not\\n', 'baddest\\n', 'james']\n",
            "sent--['i', 'like', 'you', 'much', 'more', 'fucking', 'hot', 'that’s', 'with', 'part', 'so\\n', 'juice\\n', 'yes', 'shooting', 'do\\n', 'place', 'part', 'are', '(are', 'crew\\n', 'word', 'worried', 'hey,', 'fast', 'change', 'grew', 'bus\\n', 'where,', 'eyes\\n', 'give', 'hood', 'cost', 'strange', 'not\\n', 'baddest\\n', 'james', 'always\\n']\n",
            "sent--['i', 'like', 'you', 'much', 'more', 'fucking', 'hot', 'that’s', 'with', 'part', 'so\\n', 'juice\\n', 'yes', 'shooting', 'do\\n', 'place', 'part', 'are', '(are', 'crew\\n', 'word', 'worried', 'hey,', 'fast', 'change', 'grew', 'bus\\n', 'where,', 'eyes\\n', 'give', 'hood', 'cost', 'strange', 'not\\n', 'baddest\\n', 'james', 'always\\n', 'yes']\n",
            "sent--['i', 'like', 'you', 'much', 'more', 'fucking', 'hot', 'that’s', 'with', 'part', 'so\\n', 'juice\\n', 'yes', 'shooting', 'do\\n', 'place', 'part', 'are', '(are', 'crew\\n', 'word', 'worried', 'hey,', 'fast', 'change', 'grew', 'bus\\n', 'where,', 'eyes\\n', 'give', 'hood', 'cost', 'strange', 'not\\n', 'baddest\\n', 'james', 'always\\n', 'yes', 'coke']\n",
            "sent--['i', 'like', 'you', 'much', 'more', 'fucking', 'hot', 'that’s', 'with', 'part', 'so\\n', 'juice\\n', 'yes', 'shooting', 'do\\n', 'place', 'part', 'are', '(are', 'crew\\n', 'word', 'worried', 'hey,', 'fast', 'change', 'grew', 'bus\\n', 'where,', 'eyes\\n', 'give', 'hood', 'cost', 'strange', 'not\\n', 'baddest\\n', 'james', 'always\\n', 'yes', 'coke', 'music\\n']\n",
            "sent--['i', 'like', 'you', 'much', 'more', 'fucking', 'hot', 'that’s', 'with', 'part', 'so\\n', 'juice\\n', 'yes', 'shooting', 'do\\n', 'place', 'part', 'are', '(are', 'crew\\n', 'word', 'worried', 'hey,', 'fast', 'change', 'grew', 'bus\\n', 'where,', 'eyes\\n', 'give', 'hood', 'cost', 'strange', 'not\\n', 'baddest\\n', 'james', 'always\\n', 'yes', 'coke', 'music\\n', 'fast']\n",
            "sent--['i', 'like', 'you', 'much', 'more', 'fucking', 'hot', 'that’s', 'with', 'part', 'so\\n', 'juice\\n', 'yes', 'shooting', 'do\\n', 'place', 'part', 'are', '(are', 'crew\\n', 'word', 'worried', 'hey,', 'fast', 'change', 'grew', 'bus\\n', 'where,', 'eyes\\n', 'give', 'hood', 'cost', 'strange', 'not\\n', 'baddest\\n', 'james', 'always\\n', 'yes', 'coke', 'music\\n', 'fast', 'here\\n']\n",
            "sent--['i', 'like', 'you', 'much', 'more', 'fucking', 'hot', 'that’s', 'with', 'part', 'so\\n', 'juice\\n', 'yes', 'shooting', 'do\\n', 'place', 'part', 'are', '(are', 'crew\\n', 'word', 'worried', 'hey,', 'fast', 'change', 'grew', 'bus\\n', 'where,', 'eyes\\n', 'give', 'hood', 'cost', 'strange', 'not\\n', 'baddest\\n', 'james', 'always\\n', 'yes', 'coke', 'music\\n', 'fast', 'here\\n', \"'bout\"]\n",
            "sent--['i', 'like', 'you', 'much', 'more', 'fucking', 'hot', 'that’s', 'with', 'part', 'so\\n', 'juice\\n', 'yes', 'shooting', 'do\\n', 'place', 'part', 'are', '(are', 'crew\\n', 'word', 'worried', 'hey,', 'fast', 'change', 'grew', 'bus\\n', 'where,', 'eyes\\n', 'give', 'hood', 'cost', 'strange', 'not\\n', 'baddest\\n', 'james', 'always\\n', 'yes', 'coke', 'music\\n', 'fast', 'here\\n', \"'bout\", 'day']\n",
            "sent--['i', 'like', 'you', 'much', 'more', 'fucking', 'hot', 'that’s', 'with', 'part', 'so\\n', 'juice\\n', 'yes', 'shooting', 'do\\n', 'place', 'part', 'are', '(are', 'crew\\n', 'word', 'worried', 'hey,', 'fast', 'change', 'grew', 'bus\\n', 'where,', 'eyes\\n', 'give', 'hood', 'cost', 'strange', 'not\\n', 'baddest\\n', 'james', 'always\\n', 'yes', 'coke', 'music\\n', 'fast', 'here\\n', \"'bout\", 'day', 'times']\n",
            "sent--['i', 'like', 'you', 'much', 'more', 'fucking', 'hot', 'that’s', 'with', 'part', 'so\\n', 'juice\\n', 'yes', 'shooting', 'do\\n', 'place', 'part', 'are', '(are', 'crew\\n', 'word', 'worried', 'hey,', 'fast', 'change', 'grew', 'bus\\n', 'where,', 'eyes\\n', 'give', 'hood', 'cost', 'strange', 'not\\n', 'baddest\\n', 'james', 'always\\n', 'yes', 'coke', 'music\\n', 'fast', 'here\\n', \"'bout\", 'day', 'times', 'pass']\n",
            "sent--['i', 'like', 'you', 'much', 'more', 'fucking', 'hot', 'that’s', 'with', 'part', 'so\\n', 'juice\\n', 'yes', 'shooting', 'do\\n', 'place', 'part', 'are', '(are', 'crew\\n', 'word', 'worried', 'hey,', 'fast', 'change', 'grew', 'bus\\n', 'where,', 'eyes\\n', 'give', 'hood', 'cost', 'strange', 'not\\n', 'baddest\\n', 'james', 'always\\n', 'yes', 'coke', 'music\\n', 'fast', 'here\\n', \"'bout\", 'day', 'times', 'pass', 'burn']\n",
            "sent--['i', 'like', 'you', 'much', 'more', 'fucking', 'hot', 'that’s', 'with', 'part', 'so\\n', 'juice\\n', 'yes', 'shooting', 'do\\n', 'place', 'part', 'are', '(are', 'crew\\n', 'word', 'worried', 'hey,', 'fast', 'change', 'grew', 'bus\\n', 'where,', 'eyes\\n', 'give', 'hood', 'cost', 'strange', 'not\\n', 'baddest\\n', 'james', 'always\\n', 'yes', 'coke', 'music\\n', 'fast', 'here\\n', \"'bout\", 'day', 'times', 'pass', 'burn', 'time']\n",
            "sent--['i', 'like', 'you', 'much', 'more', 'fucking', 'hot', 'that’s', 'with', 'part', 'so\\n', 'juice\\n', 'yes', 'shooting', 'do\\n', 'place', 'part', 'are', '(are', 'crew\\n', 'word', 'worried', 'hey,', 'fast', 'change', 'grew', 'bus\\n', 'where,', 'eyes\\n', 'give', 'hood', 'cost', 'strange', 'not\\n', 'baddest\\n', 'james', 'always\\n', 'yes', 'coke', 'music\\n', 'fast', 'here\\n', \"'bout\", 'day', 'times', 'pass', 'burn', 'time', 'fuck']\n",
            "sent--['i', 'like', 'you', 'much', 'more', 'fucking', 'hot', 'that’s', 'with', 'part', 'so\\n', 'juice\\n', 'yes', 'shooting', 'do\\n', 'place', 'part', 'are', '(are', 'crew\\n', 'word', 'worried', 'hey,', 'fast', 'change', 'grew', 'bus\\n', 'where,', 'eyes\\n', 'give', 'hood', 'cost', 'strange', 'not\\n', 'baddest\\n', 'james', 'always\\n', 'yes', 'coke', 'music\\n', 'fast', 'here\\n', \"'bout\", 'day', 'times', 'pass', 'burn', 'time', 'fuck', 'free']\n",
            "sent--['i', 'like', 'you', 'much', 'more', 'fucking', 'hot', 'that’s', 'with', 'part', 'so\\n', 'juice\\n', 'yes', 'shooting', 'do\\n', 'place', 'part', 'are', '(are', 'crew\\n', 'word', 'worried', 'hey,', 'fast', 'change', 'grew', 'bus\\n', 'where,', 'eyes\\n', 'give', 'hood', 'cost', 'strange', 'not\\n', 'baddest\\n', 'james', 'always\\n', 'yes', 'coke', 'music\\n', 'fast', 'here\\n', \"'bout\", 'day', 'times', 'pass', 'burn', 'time', 'fuck', 'free', 'party']\n",
            "sent--['i', 'like', 'you', 'much', 'more', 'fucking', 'hot', 'that’s', 'with', 'part', 'so\\n', 'juice\\n', 'yes', 'shooting', 'do\\n', 'place', 'part', 'are', '(are', 'crew\\n', 'word', 'worried', 'hey,', 'fast', 'change', 'grew', 'bus\\n', 'where,', 'eyes\\n', 'give', 'hood', 'cost', 'strange', 'not\\n', 'baddest\\n', 'james', 'always\\n', 'yes', 'coke', 'music\\n', 'fast', 'here\\n', \"'bout\", 'day', 'times', 'pass', 'burn', 'time', 'fuck', 'free', 'party', 'ya\\n']\n",
            "sent--['i', 'like', 'you', 'much', 'more', 'fucking', 'hot', 'that’s', 'with', 'part', 'so\\n', 'juice\\n', 'yes', 'shooting', 'do\\n', 'place', 'part', 'are', '(are', 'crew\\n', 'word', 'worried', 'hey,', 'fast', 'change', 'grew', 'bus\\n', 'where,', 'eyes\\n', 'give', 'hood', 'cost', 'strange', 'not\\n', 'baddest\\n', 'james', 'always\\n', 'yes', 'coke', 'music\\n', 'fast', 'here\\n', \"'bout\", 'day', 'times', 'pass', 'burn', 'time', 'fuck', 'free', 'party', 'ya\\n', 'drink']\n",
            "sent--['i', 'like', 'you', 'much', 'more', 'fucking', 'hot', 'that’s', 'with', 'part', 'so\\n', 'juice\\n', 'yes', 'shooting', 'do\\n', 'place', 'part', 'are', '(are', 'crew\\n', 'word', 'worried', 'hey,', 'fast', 'change', 'grew', 'bus\\n', 'where,', 'eyes\\n', 'give', 'hood', 'cost', 'strange', 'not\\n', 'baddest\\n', 'james', 'always\\n', 'yes', 'coke', 'music\\n', 'fast', 'here\\n', \"'bout\", 'day', 'times', 'pass', 'burn', 'time', 'fuck', 'free', 'party', 'ya\\n', 'drink', 'goin']\n",
            "sent--['i', 'like', 'you', 'much', 'more', 'fucking', 'hot', 'that’s', 'with', 'part', 'so\\n', 'juice\\n', 'yes', 'shooting', 'do\\n', 'place', 'part', 'are', '(are', 'crew\\n', 'word', 'worried', 'hey,', 'fast', 'change', 'grew', 'bus\\n', 'where,', 'eyes\\n', 'give', 'hood', 'cost', 'strange', 'not\\n', 'baddest\\n', 'james', 'always\\n', 'yes', 'coke', 'music\\n', 'fast', 'here\\n', \"'bout\", 'day', 'times', 'pass', 'burn', 'time', 'fuck', 'free', 'party', 'ya\\n', 'drink', 'goin', \"buyin'\"]\n",
            "['i', 'like', 'you', 'much', 'more', 'fucking', 'hot', 'that’s', 'with', 'part', 'so\\n', 'juice\\n', 'yes', 'shooting', 'do\\n', 'place', 'part', 'are', '(are', 'crew\\n', 'word', 'worried', 'hey,', 'fast', 'change', 'grew', 'bus\\n', 'where,', 'eyes\\n', 'give', 'hood', 'cost', 'strange', 'not\\n', 'baddest\\n', 'james', 'always\\n', 'yes', 'coke', 'music\\n', 'fast', 'here\\n', \"'bout\", 'day', 'times', 'pass', 'burn', 'time', 'fuck', 'free', 'party', 'ya\\n', 'drink', 'goin', \"buyin'\"]\n"
          ],
          "name": "stdout"
        }
      ]
    },
    {
      "cell_type": "markdown",
      "metadata": {
        "id": "zICtUaYlayFW"
      },
      "source": [
        "features:\n",
        "\n",
        "*   SUBSET = 1000\n",
        "*   MIN_WORD_FREQUENCY = 15\n",
        "*   SEQUENCE_LEN = 1 \n",
        "*   EPOCH = 10\n",
        "\n",
        "result:\n",
        "\n",
        "a bunch of 'i' and 'and'"
      ]
    },
    {
      "cell_type": "markdown",
      "metadata": {
        "id": "hHe7nz0vvHjX"
      },
      "source": [
        "features:\n",
        "\n",
        "*   SUBSET = 1000\n",
        "*   MIN_WORD_FREQUENCY = 15\n",
        "*   SEQUENCE_LEN = 3 --------------\n",
        "*   EPOCH = 10\n",
        "\n",
        "result:\n",
        "\n",
        "a bunch of 'i' , 'and' , 'i'll' "
      ]
    },
    {
      "cell_type": "markdown",
      "metadata": {
        "id": "GH8wnn_w_1ZU"
      },
      "source": [
        "# Rhyming Part"
      ]
    },
    {
      "cell_type": "code",
      "metadata": {
        "id": "05TbQNLQhfbr"
      },
      "source": [
        "\r\n",
        "import pandas as pd\r\n",
        "\r\n",
        "STRESSES = {'AA1', 'AE1', 'AH1', 'AO1', 'AW1', 'AY1', 'EH1', 'ER1', 'EY1', 'IH1', 'IY1', 'OW1', 'OY1', 'UH1', 'UW1'}\r\n",
        "\"\"\"\r\n",
        "def fileToDict(filepath):\r\n",
        "    dictA = dict()\r\n",
        "    with open(filepath) as fileA:\r\n",
        "        for line in fileA:\r\n",
        "            words = line.split() \r\n",
        "            dictA[words[0]] = tuple(words[1:])\r\n",
        "    return dictA\r\n",
        "\r\n",
        "PDICT = fileToDict(\"CMUdict.txt\") \r\n",
        "print(len(PDICT.keys()))\r\n",
        "\r\n",
        "import nltk \r\n",
        "nltk.download('words')\r\n",
        "nltk.download('punkt')\r\n",
        "file_content = open(\"fusion.txt\").read()\r\n",
        "tokens = nltk.word_tokenize(file_content)\r\n",
        "\r\n",
        "def cleanDict (pDict):\r\n",
        "  phodict = {} \r\n",
        "  for i in pDict.keys():\r\n",
        "     if ((i.lower() in tokens) and (i.isalpha())):\r\n",
        "       phodict[i] = pDict[i]\r\n",
        "  return phodict\r\n",
        "PHODICT = cleanDict (PDICT)\r\n",
        "print(len(PHODICT.keys()))\r\n",
        "\"\"\"\r\n",
        "import ast\r\n",
        "file = open(\"dict.txt\", \"r\")\r\n",
        "\r\n",
        "contents = file.read()\r\n",
        "PHODICT = ast.literal_eval(contents)\r\n",
        "\r\n",
        "file.close()\r\n",
        "\r\n",
        "def isSubList(listA, listB):\r\n",
        "    if len(listA) < len(listB):\r\n",
        "        return isSubList(listB, listA)\r\n",
        "    n = len(listB)\r\n",
        "    for start in range(len(listA)-n+1):\r\n",
        "        if all(listA[start+i] == listB[i] for i in range(n)):\r\n",
        "            return True\r\n",
        "    return False\r\n",
        "\r\n",
        "def getRhymes(word):\r\n",
        "    print(type(word))\r\n",
        "    sounds = PHODICT[word]\r\n",
        "    for index,sound in enumerate(reversed(sounds)):\r\n",
        "        if sound in STRESSES:\r\n",
        "            ending = sounds[-index-1:]\r\n",
        "            break\r\n",
        "    yielded = set()\r\n",
        "    for wordB, soundsB in PHODICT.items():\r\n",
        "        if (ending == soundsB[-index-1:]) and (soundsB not in yielded) and (not isSubList(sounds, soundsB)):\r\n",
        "            yielded.add(soundsB)\r\n",
        "            yield wordB\r\n",
        "\r\n"
      ],
      "execution_count": null,
      "outputs": []
    },
    {
      "cell_type": "markdown",
      "metadata": {
        "id": "PGmw9NiEP-5t"
      },
      "source": [
        "#Generation Part"
      ]
    },
    {
      "cell_type": "code",
      "metadata": {
        "id": "kifyJ4H6m3KM"
      },
      "source": [
        "def rhymeFinder(inWord):\r\n",
        "  lastWord = inWord\r\n",
        "  sameRhyme = []\r\n",
        "  for word in getRhymes(lastWord.upper()):\r\n",
        "    sameRhyme.append(word.lower())\r\n",
        "  outWord = random.choice(sameRhyme)\r\n",
        "  return outWord\r\n",
        "\r\n",
        "def reverseSentence(inList):\r\n",
        "  words = inList[0].split()\r\n",
        "  outStr = ' '.join(reversed(words))\r\n",
        "  return outStr\r\n",
        "\r\n",
        "def reverseW(line):\r\n",
        "  words = line.split()\r\n",
        "  reversed_words = ' '.join(reversed(words))\r\n",
        "  return reversed_words\r\n",
        "\r\n",
        "PADDING_TEXT = \"\"\"They tryna be cray \r\n",
        "They tryna be cray \r\n",
        "She wanna meet Carti \r\n",
        "That bitch is a Barbie \r\n",
        "I'ma fuck these hoes \r\n",
        "I'm on 730\r\n",
        "Got a brand new pack like Kid Cudi\r\n",
        "I smoke dope like Kid Cudi\r\n",
        "Push up and get the slugs from me  \r\n",
        "\"\"\"\r\n",
        "END = \"\"\"<eod> </s> <eos>\"\"\"\r\n",
        "\r\n",
        "TEXT_PD = reverseW(PADDING_TEXT) + reverseW(END)\r\n"
      ],
      "execution_count": null,
      "outputs": []
    },
    {
      "cell_type": "code",
      "metadata": {
        "id": "OYC2VmEKJr0W",
        "scrolled": true,
        "colab": {
          "base_uri": "https://localhost:8080/"
        },
        "outputId": "4a2f9f54-2611-4f9b-d6e4-45ecff1678ce"
      },
      "source": [
        "firstSeed = \"You and me forever \"\n",
        "allLyrics = []\n",
        "\n",
        "BART_sentence = generate_lyrics(seed_line = firstSeed, num_lines = 2, model_ = model, startW = None,\n",
        "                           noise_percent = 0.25, multiple_lines = False, max_line_history = 1)\n",
        "allLyrics.append(BART_sentence[-1])\n",
        "\n",
        "startword = rhymeFinder(BART_sentence[-1].split()[-1])\n",
        "\n",
        "prompt = \" \" + startword\n",
        "tpmorp = reverseW(prompt)\n",
        "XLinputs = XLtokenizer.encode(PADDING_TEXT + prompt, add_special_tokens=False, return_tensors=\"pt\")\n",
        "XLinputs = XLinputs.to(device)\n",
        "prompt_length = len(XLtokenizer.decode(XLinputs[0], skip_special_tokens=True, clean_up_tokenization_spaces=True))\n",
        "XLoutputs = XLmodel.generate(XLinputs, max_length=70, do_sample=True, top_p=0.99, top_k=25, repetition_penalty  = 6.0, length_penalty = 0.01)\n",
        "\n",
        "XLgenerated = XLtokenizer.decode(XLoutputs[0])[prompt_length:] + prompt\n",
        "allLyrics.append(XLgenerated)\n",
        "print(allLyrics)"
      ],
      "execution_count": null,
      "outputs": [
        {
          "output_type": "stream",
          "text": [
            "You and me forever\n",
            "I don't give a fuck what you think\n",
            "<class 'str'>\n",
            "[\" I don't give a fuck what you think\", ' my own way wink']\n"
          ],
          "name": "stdout"
        }
      ]
    },
    {
      "cell_type": "code",
      "metadata": {
        "id": "rwvQWG7FWa_Y",
        "colab": {
          "base_uri": "https://localhost:8080/"
        },
        "outputId": "dfba26aa-4a3c-42e7-d0a7-abcdc1c99dd3"
      },
      "source": [
        "!pip install rake-nltk\r\n",
        "from rake_nltk import Rake\r\n",
        "\r\n",
        "r = Rake()\r\n",
        "r.extract_keywords_from_sentences(allLyrics)\r\n",
        "keywords = r.get_ranked_phrases()\r\n",
        "\r\n",
        "keySentence = ''\r\n",
        "for i in keywords:\r\n",
        "  keySentence += i\r\n",
        "  keySentence += ' '"
      ],
      "execution_count": null,
      "outputs": [
        {
          "output_type": "stream",
          "text": [
            "Requirement already satisfied: rake-nltk in /usr/local/lib/python3.7/dist-packages (1.0.4)\n",
            "Requirement already satisfied: nltk in /usr/local/lib/python3.7/dist-packages (from rake-nltk) (3.2.5)\n",
            "Requirement already satisfied: six in /usr/local/lib/python3.7/dist-packages (from nltk->rake-nltk) (1.15.0)\n"
          ],
          "name": "stdout"
        }
      ]
    },
    {
      "cell_type": "code",
      "metadata": {
        "colab": {
          "base_uri": "https://localhost:8080/"
        },
        "id": "FJrpmRi7lxjR",
        "outputId": "399ee4c4-fc13-4b71-b094-5f0daa5b3e39"
      },
      "source": [
        "BART_sentence1 = generate_lyrics(seed_line = keySentence, num_lines = 2, model_ = model, startW = None,\r\n",
        "                           noise_percent = 0.25, multiple_lines = False, max_line_history = 1)\r\n",
        "allLyrics.append(BART_sentence1[-1])\r\n",
        "\r\n",
        "startword = rhymeFinder(BART_sentence1[-1].split()[-1])\r\n",
        "\r\n",
        "prompt = \" \" + startword\r\n",
        "tpmorp = reverseW(prompt)\r\n",
        "XLinputs = XLtokenizer.encode(PADDING_TEXT + prompt, add_special_tokens=False, return_tensors=\"pt\")\r\n",
        "XLinputs = XLinputs.to(device)\r\n",
        "prompt_length = len(XLtokenizer.decode(XLinputs[0], skip_special_tokens=True, clean_up_tokenization_spaces=True))\r\n",
        "XLoutputs = XLmodel.generate(XLinputs, max_length=70, do_sample=True, top_p=0.99, top_k=25, repetition_penalty  = 6.0, length_penalty = 0.01)\r\n",
        "\r\n",
        "XLgenerated = XLtokenizer.decode(XLoutputs[0])[prompt_length:] + prompt\r\n",
        "allLyrics.append(XLgenerated)\r\n",
        "print(allLyrics)"
      ],
      "execution_count": null,
      "outputs": [
        {
          "output_type": "stream",
          "text": [
            "way wink think give fuck\n",
            "I don't give a fuck\n",
            "<class 'str'>\n",
            "[\" I don't give a fuck what you think\", ' my own way wink', \" I don't give a fuck what you think\", '... rink', \" I don't give a fuck\", '. I can tuck']\n"
          ],
          "name": "stdout"
        }
      ]
    }
  ]
}